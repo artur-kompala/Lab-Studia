{
 "cells": [
  {
   "metadata": {},
   "cell_type": "markdown",
   "source": "### Wczytanie zbiór danych Diet_R.csv",
   "id": "4d6e414ceb77af74"
  },
  {
   "metadata": {
    "ExecuteTime": {
     "end_time": "2025-10-30T19:27:20.270435Z",
     "start_time": "2025-10-30T19:27:20.261687Z"
    }
   },
   "cell_type": "code",
   "source": [
    "import pandas as pd\n",
    "\n",
    "data = pd.read_csv(\"data/Diet_R.csv\", na_values=[\"\", \" \", \"?\", \"NA\", \"NaN\", None])\n",
    "data.info()"
   ],
   "id": "75181556f23b2ec1",
   "outputs": [
    {
     "name": "stdout",
     "output_type": "stream",
     "text": [
      "<class 'pandas.core.frame.DataFrame'>\n",
      "RangeIndex: 78 entries, 0 to 77\n",
      "Data columns (total 7 columns):\n",
      " #   Column        Non-Null Count  Dtype  \n",
      "---  ------        --------------  -----  \n",
      " 0   Person        78 non-null     int64  \n",
      " 1   gender        76 non-null     float64\n",
      " 2   Age           78 non-null     int64  \n",
      " 3   Height        78 non-null     int64  \n",
      " 4   pre.weight    78 non-null     int64  \n",
      " 5   Diet          78 non-null     int64  \n",
      " 6   weight6weeks  78 non-null     float64\n",
      "dtypes: float64(2), int64(5)\n",
      "memory usage: 4.4 KB\n"
     ]
    }
   ],
   "execution_count": 18
  },
  {
   "metadata": {},
   "cell_type": "markdown",
   "source": "### Wykrywanie obserwacji odstających metodą rozstępu międzykwartylowego (IQR)",
   "id": "bb66211249bef857"
  },
  {
   "metadata": {
    "ExecuteTime": {
     "end_time": "2025-10-30T19:27:22.901428Z",
     "start_time": "2025-10-30T19:27:22.884562Z"
    }
   },
   "cell_type": "code",
   "source": [
    "def detect_outliers(df):\n",
    "    outlier_counts = {}\n",
    "    for col in df.select_dtypes(include=[float,int]).columns:\n",
    "        Q1 = df[col].quantile(0.25)\n",
    "        Q3 = df[col].quantile(0.75)\n",
    "        IQR = Q3 - Q1\n",
    "        lower_bound = Q1 - 1.5 * IQR\n",
    "        upper_bound = Q3 + 1.5 * IQR\n",
    "        outliers = df[(df[col] < lower_bound) | (df[col] > upper_bound)]\n",
    "        outlier_counts[col] = outliers.shape[0]\n",
    "    print(\"Outlier counts per column:\")\n",
    "    print(outlier_counts)\n",
    "\n",
    "detect_outliers(data)"
   ],
   "id": "8badf9d14cf67ee9",
   "outputs": [
    {
     "name": "stdout",
     "output_type": "stream",
     "text": [
      "Outlier counts per column:\n",
      "{'Person': 0, 'gender': 0, 'Age': 0, 'Height': 8, 'pre.weight': 1, 'Diet': 0, 'weight6weeks': 1}\n"
     ]
    }
   ],
   "execution_count": 19
  },
  {
   "metadata": {},
   "cell_type": "markdown",
   "source": "### Wykrywanie braków danych",
   "id": "8298c4ad19949c48"
  },
  {
   "metadata": {
    "ExecuteTime": {
     "end_time": "2025-10-30T19:27:32.862981Z",
     "start_time": "2025-10-30T19:27:32.858596Z"
    }
   },
   "cell_type": "code",
   "source": [
    "missing_values = data.isnull().sum()\n",
    "print(\"Missing values per column:\\n\", missing_values)"
   ],
   "id": "4873e70303640921",
   "outputs": [
    {
     "name": "stdout",
     "output_type": "stream",
     "text": [
      "Missing values per column:\n",
      " Person          0\n",
      "gender          2\n",
      "Age             0\n",
      "Height          0\n",
      "pre.weight      0\n",
      "Diet            0\n",
      "weight6weeks    0\n",
      "dtype: int64\n"
     ]
    }
   ],
   "execution_count": 20
  },
  {
   "metadata": {},
   "cell_type": "markdown",
   "source": "### Zastąpnienie brakujących wartości średnią kolumny",
   "id": "c9bd606f91db3c24"
  },
  {
   "metadata": {
    "ExecuteTime": {
     "end_time": "2025-10-30T19:27:42.983314Z",
     "start_time": "2025-10-30T19:27:42.977076Z"
    }
   },
   "cell_type": "code",
   "source": [
    "from sklearn.impute import SimpleImputer\n",
    "imputer = SimpleImputer(strategy='mean')\n",
    "data['gender'] = imputer.fit_transform(data[['gender']])\n"
   ],
   "id": "7da9badbc16aadcf",
   "outputs": [],
   "execution_count": 21
  },
  {
   "metadata": {},
   "cell_type": "markdown",
   "source": [
    "Dla wczytanego zbioru policzyć podstawowe statystyki:\n",
    "* średnia, mediana, odchylenie standardowe, mediana, 1 i 3 kwartyl\n",
    "* statystki policzyć dla zbioru jako całości i z podziałem na płeć\n",
    "* wyniki zapisać do pliku"
   ],
   "id": "feda4750719995d5"
  },
  {
   "metadata": {
    "ExecuteTime": {
     "end_time": "2025-10-30T19:27:51.966008Z",
     "start_time": "2025-10-30T19:27:51.951602Z"
    }
   },
   "cell_type": "code",
   "source": [
    "avg = data.mean()\n",
    "median = data.median()\n",
    "std_dev = data.std()\n",
    "q1 = data.quantile(0.25)\n",
    "q3 = data.quantile(0.75)\n",
    "\n",
    "stats = pd.DataFrame({\n",
    "    'Mean': avg,\n",
    "    'Median': median,\n",
    "    'StdDev': std_dev,\n",
    "    'Q1': q1,\n",
    "    'Q3': q3\n",
    "})\n",
    "\n",
    "stats.to_csv('data/wyniki.csv')\n",
    "stats"
   ],
   "id": "6937896e3811f3dd",
   "outputs": [
    {
     "data": {
      "text/plain": [
       "                    Mean  Median     StdDev      Q1       Q3\n",
       "Person         39.500000   39.50  22.660538   20.25   58.750\n",
       "gender          0.434211    0.00   0.492424    0.00    1.000\n",
       "Age            39.153846   39.00   9.815277   32.25   46.750\n",
       "Height        170.820513  169.50  11.276621  164.25  174.750\n",
       "pre.weight     72.525641   72.00   8.723344   66.00   78.000\n",
       "Diet            2.038462    2.00   0.812920    1.00    3.000\n",
       "weight6weeks   68.680769   68.95   8.924504   61.85   73.825"
      ],
      "text/html": [
       "<div>\n",
       "<style scoped>\n",
       "    .dataframe tbody tr th:only-of-type {\n",
       "        vertical-align: middle;\n",
       "    }\n",
       "\n",
       "    .dataframe tbody tr th {\n",
       "        vertical-align: top;\n",
       "    }\n",
       "\n",
       "    .dataframe thead th {\n",
       "        text-align: right;\n",
       "    }\n",
       "</style>\n",
       "<table border=\"1\" class=\"dataframe\">\n",
       "  <thead>\n",
       "    <tr style=\"text-align: right;\">\n",
       "      <th></th>\n",
       "      <th>Mean</th>\n",
       "      <th>Median</th>\n",
       "      <th>StdDev</th>\n",
       "      <th>Q1</th>\n",
       "      <th>Q3</th>\n",
       "    </tr>\n",
       "  </thead>\n",
       "  <tbody>\n",
       "    <tr>\n",
       "      <th>Person</th>\n",
       "      <td>39.500000</td>\n",
       "      <td>39.50</td>\n",
       "      <td>22.660538</td>\n",
       "      <td>20.25</td>\n",
       "      <td>58.750</td>\n",
       "    </tr>\n",
       "    <tr>\n",
       "      <th>gender</th>\n",
       "      <td>0.434211</td>\n",
       "      <td>0.00</td>\n",
       "      <td>0.492424</td>\n",
       "      <td>0.00</td>\n",
       "      <td>1.000</td>\n",
       "    </tr>\n",
       "    <tr>\n",
       "      <th>Age</th>\n",
       "      <td>39.153846</td>\n",
       "      <td>39.00</td>\n",
       "      <td>9.815277</td>\n",
       "      <td>32.25</td>\n",
       "      <td>46.750</td>\n",
       "    </tr>\n",
       "    <tr>\n",
       "      <th>Height</th>\n",
       "      <td>170.820513</td>\n",
       "      <td>169.50</td>\n",
       "      <td>11.276621</td>\n",
       "      <td>164.25</td>\n",
       "      <td>174.750</td>\n",
       "    </tr>\n",
       "    <tr>\n",
       "      <th>pre.weight</th>\n",
       "      <td>72.525641</td>\n",
       "      <td>72.00</td>\n",
       "      <td>8.723344</td>\n",
       "      <td>66.00</td>\n",
       "      <td>78.000</td>\n",
       "    </tr>\n",
       "    <tr>\n",
       "      <th>Diet</th>\n",
       "      <td>2.038462</td>\n",
       "      <td>2.00</td>\n",
       "      <td>0.812920</td>\n",
       "      <td>1.00</td>\n",
       "      <td>3.000</td>\n",
       "    </tr>\n",
       "    <tr>\n",
       "      <th>weight6weeks</th>\n",
       "      <td>68.680769</td>\n",
       "      <td>68.95</td>\n",
       "      <td>8.924504</td>\n",
       "      <td>61.85</td>\n",
       "      <td>73.825</td>\n",
       "    </tr>\n",
       "  </tbody>\n",
       "</table>\n",
       "</div>"
      ]
     },
     "execution_count": 22,
     "metadata": {},
     "output_type": "execute_result"
    }
   ],
   "execution_count": 22
  }
 ],
 "metadata": {
  "kernelspec": {
   "display_name": "Python 3",
   "language": "python",
   "name": "python3"
  },
  "language_info": {
   "codemirror_mode": {
    "name": "ipython",
    "version": 2
   },
   "file_extension": ".py",
   "mimetype": "text/x-python",
   "name": "python",
   "nbconvert_exporter": "python",
   "pygments_lexer": "ipython2",
   "version": "2.7.6"
  }
 },
 "nbformat": 4,
 "nbformat_minor": 5
}
