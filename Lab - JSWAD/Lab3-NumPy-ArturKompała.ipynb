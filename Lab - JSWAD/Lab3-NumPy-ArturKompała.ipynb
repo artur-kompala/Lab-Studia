{
 "cells": [
  {
   "metadata": {},
   "cell_type": "markdown",
   "source": [
    "# ARTUR KOMPAŁA\n",
    "\n",
    "a. Utwórz jednowymiarową tablicę Numpy zawierającą liczby od 1 do 20.\n",
    "\n",
    "b. Wyznacz sumę, średnią, medianę oraz wariancję elementów tablicy.\n",
    "\n",
    "c. Przekształć jednowymiarową tablicę w dwuwymiarową o wymiarach 5x4."
   ]
  },
  {
   "metadata": {
    "ExecuteTime": {
     "end_time": "2025-10-22T14:52:29.865601Z",
     "start_time": "2025-10-22T14:52:29.859086Z"
    }
   },
   "cell_type": "code",
   "source": [
    "import numpy as np\n",
    "#a\n",
    "arr = np.arange(1,21)\n",
    "print(\"a. Tablica od 1 do 20:\\n\", arr)\n",
    "#b\n",
    "print(\"b. Suma:\", np.sum(arr))\n",
    "print(\"Średnia:\", np.mean(arr))\n",
    "print(\"Mediana:\", np.median(arr))\n",
    "print(\"Wariancja:\", np.var(arr))\n",
    "#c\n",
    "arr_2d = arr.reshape(5,4)\n",
    "print(\"c. Tablica 5x4:\\n\", arr_2d)"
   ],
   "outputs": [
    {
     "name": "stdout",
     "output_type": "stream",
     "text": [
      "a. Tablica od 1 do 20:\n",
      " [ 1  2  3  4  5  6  7  8  9 10 11 12 13 14 15 16 17 18 19 20]\n",
      "b. Suma: 210\n",
      "Średnia: 10.5\n",
      "Mediana: 10.5\n",
      "Wariancja: 33.25\n",
      "c. Tablica 5x4:\n",
      " [[ 1  2  3  4]\n",
      " [ 5  6  7  8]\n",
      " [ 9 10 11 12]\n",
      " [13 14 15 16]\n",
      " [17 18 19 20]]\n"
     ]
    }
   ],
   "execution_count": 160
  },
  {
   "metadata": {},
   "cell_type": "markdown",
   "source": [
    "a. Utwórz dwie macierze 3x3 z losowych liczb całkowitych z zakresu od 0 do 10.\n",
    "\n",
    "b. Wykonaj operacje dodawania, odejmowania, mnożenia macierzy oraz iloczyn\n",
    "macierzy (mnożenie macierzowe).\n",
    "\n",
    "c. Oblicz wyznacznik oraz macierz odwrotną (tylko da jednej)."
   ]
  },
  {
   "metadata": {
    "ExecuteTime": {
     "end_time": "2025-10-22T14:52:29.882846Z",
     "start_time": "2025-10-22T14:52:29.876759Z"
    }
   },
   "cell_type": "code",
   "source": [
    "#a\n",
    "arr1 = np.random.randint(0, 10, (3, 3))\n",
    "arr2 = np.random.randint(0, 10, (3, 3))\n",
    "print(\"a. Macierz 1:\\n\", arr1)\n",
    "print(\"Macierz 2:\\n\", arr2)\n",
    "#b\n",
    "print(\"b. Dodawanie:\\n\", arr1 + arr2)\n",
    "print(\"Odejmowanie:\\n\", arr1 - arr2)\n",
    "print(\"Mnożenie elementów:\\n\", arr1 * arr2)\n",
    "print(\"Iloczyn macierzy:\\n\", np.dot(arr1, arr2))\n",
    "#c\n",
    "det = np.linalg.det(arr1)\n",
    "inv = np.linalg.inv(arr1)\n",
    "print(\"c. Wyznacznik macierzy 1:\", det)\n",
    "print(\"Macierz odwrotna macierzy 1:\\n\", inv)\n"
   ],
   "outputs": [
    {
     "name": "stdout",
     "output_type": "stream",
     "text": [
      "a. Macierz 1:\n",
      " [[0 7 6]\n",
      " [8 6 0]\n",
      " [9 5 3]]\n",
      "Macierz 2:\n",
      " [[9 2 6]\n",
      " [9 5 5]\n",
      " [6 3 7]]\n",
      "b. Dodawanie:\n",
      " [[ 9  9 12]\n",
      " [17 11  5]\n",
      " [15  8 10]]\n",
      "Odejmowanie:\n",
      " [[-9  5  0]\n",
      " [-1  1 -5]\n",
      " [ 3  2 -4]]\n",
      "Mnożenie elementów:\n",
      " [[ 0 14 36]\n",
      " [72 30  0]\n",
      " [54 15 21]]\n",
      "Iloczyn macierzy:\n",
      " [[ 99  53  77]\n",
      " [126  46  78]\n",
      " [144  52 100]]\n",
      "c. Wyznacznik macierzy 1: -252.00000000000003\n",
      "Macierz odwrotna macierzy 1:\n",
      " [[-0.07142857 -0.03571429  0.14285714]\n",
      " [ 0.0952381   0.21428571 -0.19047619]\n",
      " [ 0.05555556 -0.25        0.22222222]]\n"
     ]
    }
   ],
   "execution_count": 161
  },
  {
   "metadata": {},
   "cell_type": "markdown",
   "source": [
    "a. Utwórz macierz 6x6 z liczbami całkowitymi od 1 do 36.\n",
    "\n",
    "b. Wydziel podmacierz 3x3 z lewego górnego rogu macierzy.\n",
    "\n",
    "c. Zmień elementy na przekątnej macierzy na wartość 0.\n",
    "\n",
    "d. Wyświetl wszystkie elementy macierzy większe niż 20."
   ]
  },
  {
   "metadata": {
    "ExecuteTime": {
     "end_time": "2025-10-22T14:52:29.898080Z",
     "start_time": "2025-10-22T14:52:29.892800Z"
    }
   },
   "cell_type": "code",
   "source": [
    "#a\n",
    "arr = np.arange(1, 37).reshape(6, 6)\n",
    "print(\"a. 6x6:\\n\", arr)\n",
    "#b\n",
    "submatrix = arr[:3, :3]\n",
    "print(\"b. Podmacierz 3x3 z lewego górnego rogu:\\n\", submatrix)\n",
    "#c\n",
    "np.fill_diagonal(arr, 0)\n",
    "print(\"c. Macierz z przekątną 0:\\n\", arr)\n",
    "#d\n",
    "greaterThan20 = arr[arr > 20]\n",
    "print(\"d. > 20:\\n\", greaterThan20)\n"
   ],
   "outputs": [
    {
     "name": "stdout",
     "output_type": "stream",
     "text": [
      "a. 6x6:\n",
      " [[ 1  2  3  4  5  6]\n",
      " [ 7  8  9 10 11 12]\n",
      " [13 14 15 16 17 18]\n",
      " [19 20 21 22 23 24]\n",
      " [25 26 27 28 29 30]\n",
      " [31 32 33 34 35 36]]\n",
      "b. Podmacierz 3x3 z lewego górnego rogu:\n",
      " [[ 1  2  3]\n",
      " [ 7  8  9]\n",
      " [13 14 15]]\n",
      "c. Macierz z przekątną 0:\n",
      " [[ 0  2  3  4  5  6]\n",
      " [ 7  0  9 10 11 12]\n",
      " [13 14  0 16 17 18]\n",
      " [19 20 21  0 23 24]\n",
      " [25 26 27 28  0 30]\n",
      " [31 32 33 34 35  0]]\n",
      "d. > 20:\n",
      " [21 23 24 25 26 27 28 30 31 32 33 34 35]\n"
     ]
    }
   ],
   "execution_count": 162
  },
  {
   "metadata": {},
   "cell_type": "markdown",
   "source": [
    "a. Załaduj plik CSV z dowolnymi danymi – jako tablica Numpy (dane tylko liczbowe).\n",
    "\n",
    "b. Oblicz średnią, medianę i odchylenie standardowe dla wybranej kolumny.\n"
   ]
  },
  {
   "metadata": {
    "ExecuteTime": {
     "end_time": "2025-10-22T14:52:29.923435Z",
     "start_time": "2025-10-22T14:52:29.914820Z"
    }
   },
   "cell_type": "code",
   "source": [
    "#a\n",
    "import numpy as np\n",
    "\n",
    "arr = np.genfromtxt(\"data/data.csv\", delimiter=\";\", filling_values=np.nan,skip_header=1)\n",
    "print(\"Data:\\n\", arr)\n",
    "\n",
    "#b\n",
    "column_index = 0\n",
    "mean = np.nanmean(arr[:, column_index])\n",
    "median = np.nanmedian(arr[:, column_index])\n",
    "std_dev = np.nanstd(arr[:, column_index])\n",
    "print(\"Mean:\", mean)\n",
    "print(\"Median:\", median)\n",
    "print(\"Std:\", std_dev)\n",
    "\n"
   ],
   "outputs": [
    {
     "name": "stdout",
     "output_type": "stream",
     "text": [
      "Data:\n",
      " [[ 1.  2.  3.]\n",
      " [ 2.  4.  6.]\n",
      " [ 3.  6.  9.]\n",
      " [ 4.  8. 12.]\n",
      " [ 5. 10. 15.]\n",
      " [ 6. 12. 18.]\n",
      " [ 7. 14. 21.]\n",
      " [ 8. 16. 24.]\n",
      " [ 9. 18. 27.]\n",
      " [10. 20. 30.]]\n",
      "Mean: 5.5\n",
      "Median: 5.5\n",
      "Std: 2.8722813232690143\n"
     ]
    }
   ],
   "execution_count": 163
  },
  {
   "metadata": {},
   "cell_type": "markdown",
   "source": [
    "a. Utwórz tablicę z liczbami od -10 do 10.\n",
    "\n",
    "b. Wyznacz tablicę prawd (True/False), które wskazują, które liczby są dodatnie.\n",
    "\n",
    "c. Używając indeksowania logicznego, utwórz nową tablicę składającą się tylko z liczb\n",
    "dodatnich."
   ]
  },
  {
   "metadata": {
    "ExecuteTime": {
     "end_time": "2025-10-22T14:52:29.943722Z",
     "start_time": "2025-10-22T14:52:29.939871Z"
    }
   },
   "cell_type": "code",
   "source": [
    "#a\n",
    "arr = np.arange(-10,11)\n",
    "print(\"Array -10 to 10:\\n\", arr)\n",
    "#b\n",
    "trueOrFalse = arr > 0\n",
    "print(\"True/False:\\n\", trueOrFalse)\n",
    "#c\n",
    "onlyTrueArr = arr[trueOrFalse]\n",
    "print(\"Array only true:\\n\", onlyTrueArr)"
   ],
   "outputs": [
    {
     "name": "stdout",
     "output_type": "stream",
     "text": [
      "Array -10 to 10:\n",
      " [-10  -9  -8  -7  -6  -5  -4  -3  -2  -1   0   1   2   3   4   5   6   7\n",
      "   8   9  10]\n",
      "True/False:\n",
      " [False False False False False False False False False False False  True\n",
      "  True  True  True  True  True  True  True  True  True]\n",
      "Array only true:\n",
      " [ 1  2  3  4  5  6  7  8  9 10]\n"
     ]
    }
   ],
   "execution_count": 164
  },
  {
   "cell_type": "markdown",
   "metadata": {},
   "source": [
    "### Ćwiczenie 1\n",
    "\n",
    "a. Przekonwertuj tablicę 1D na 2D\n",
    "\n",
    "b. Utwórz następującą tablicę bez skomplikowanego kodowania. Używaj tylko funkcji numpy i poniższej tablicy wejściowej a.\n",
    "    wejście: `a = np.array([1,2,3])`\n",
    "    wyjście: `> array([1, 1, 1, 2, 2, 2, 3, 3, 3, 1, 2, 3, 1, 2, 3, 1, 2, 3])`\n",
    "\n",
    "c. wyświetl wspólne elementy dwóch tablic - korzystając tylko z funkcji numpy\n",
    "\n",
    "d. usuń z jednej tablicy elementy, które występują w drugiej\n",
    "\n",
    "e. zamień wiersze 1 i 2 w tablicy `arr = np.arange(9).reshape(3,3)`\n",
    "\n",
    "f. utwórz tablicę 2D zawierającą liczby typu float od 5 do 10\n",
    "\n",
    "g. Wyświetl tylko 3 miejsca po przecinku dla tablicy numpy\n",
    "\n",
    "h. Wstaw wartości np.nan w 20 losowych pozycjach w zestawie danych iris_2d\n",
    "    \n",
    "    `# Input\n",
    "     url = 'https://archive.ics.uci.edu/ml/machine-learning-databases/iris/iris.data'\n",
    "     iris_2d = np.genfromtxt(url, delimiter=',', dtype='object')`"
   ]
  },
  {
   "metadata": {
    "ExecuteTime": {
     "end_time": "2025-10-22T14:52:29.974951Z",
     "start_time": "2025-10-22T14:52:29.964094Z"
    }
   },
   "cell_type": "code",
   "source": [
    "import numpy as np\n",
    "# a.\n",
    "a = np.array([1, 2, 3, 4, 5])\n",
    "a_2d = a.reshape((1, -1))\n",
    "print(\"a. 1D to 2D:\\n\", a_2d)\n",
    "# b.\n",
    "a = np.array([1, 2, 3])\n",
    "b = np.concatenate([np.repeat(a, 3), np.tile(a, 3)])\n",
    "print(\"b. Custom array:\\n\", b)\n",
    "# c.\n",
    "arr1 = np.array([1, 2, 3, 4, 5])\n",
    "arr2 = np.array([4, 5, 6, 7, 8])\n",
    "common_elements = np.intersect1d(arr1, arr2)\n",
    "print(\"c. Common elements:\\n\", common_elements)\n",
    "# d.\n",
    "arr1 = np.array([1, 2, 3, 4, 5])\n",
    "arr2 = np.array([4, 5])\n",
    "filtered_arr = np.setdiff1d(arr1, arr2)\n",
    "print(\"d. Filtered array:\\n\", filtered_arr)\n",
    "# e.\n",
    "arr = np.arange(9).reshape(3, 3)\n",
    "arr[[1, 2]] = arr[[2, 1]]\n",
    "print(\"e. Swapped rows:\\n\", arr)\n",
    "# f.\n",
    "float_array = np.linspace(5, 10, num=10)\n",
    "print(\"f. Float array from 5 to 10:\\n\", float_array)\n",
    "# g.\n",
    "arr = np.array([1.123456, 2.654321, 3.987654])\n",
    "np.set_printoptions(precision=3)\n",
    "print(\"g. Array with 3 decimal places:\\n\", arr)\n",
    "# h.\n",
    "url = 'https://archive.ics.uci.edu/ml/machine-learning-databases/iris/iris.data'\n",
    "iris_2d = np.genfromtxt(url, delimiter=',', dtype='object')\n",
    "num_missing = 20\n",
    "indices = np.random.choice(iris_2d.size, num_missing, replace=False)\n",
    "iris_2d_flat = iris_2d.flatten()\n",
    "iris_2d_flat[indices] = np.nan\n",
    "iris_2d_with_nans = iris_2d_flat.reshape(iris_2d.shape)\n",
    "print(\"h. Iris dataset with NaNs:\\n\", iris_2d_with_nans)\n"
   ],
   "outputs": [
    {
     "name": "stdout",
     "output_type": "stream",
     "text": [
      "a. 1D to 2D:\n",
      " [[1 2 3 4 5]]\n",
      "b. Custom array:\n",
      " [1 1 1 2 2 2 3 3 3 1 2 3 1 2 3 1 2 3]\n",
      "c. Common elements:\n",
      " [4 5]\n",
      "d. Filtered array:\n",
      " [1 2 3]\n",
      "e. Swapped rows:\n",
      " [[0 1 2]\n",
      " [6 7 8]\n",
      " [3 4 5]]\n",
      "f. Float array from 5 to 10:\n",
      " [ 5.          5.55555556  6.11111111  6.66666667  7.22222222  7.77777778\n",
      "  8.33333333  8.88888889  9.44444444 10.        ]\n",
      "g. Array with 3 decimal places:\n",
      " [1.123 2.654 3.988]\n",
      "h. Iris dataset with NaNs:\n",
      " [[b'5.1' b'3.5' b'1.4' b'0.2' b'Iris-setosa']\n",
      " [b'4.9' b'3.0' b'1.4' b'0.2' b'Iris-setosa']\n",
      " [b'4.7' b'3.2' b'1.3' b'0.2' b'Iris-setosa']\n",
      " [b'4.6' b'3.1' b'1.5' b'0.2' b'Iris-setosa']\n",
      " [b'5.0' b'3.6' b'1.4' b'0.2' b'Iris-setosa']\n",
      " [b'5.4' b'3.9' b'1.7' b'0.4' b'Iris-setosa']\n",
      " [b'4.6' b'3.4' b'1.4' b'0.3' b'Iris-setosa']\n",
      " [b'5.0' b'3.4' b'1.5' b'0.2' b'Iris-setosa']\n",
      " [nan b'2.9' b'1.4' b'0.2' b'Iris-setosa']\n",
      " [b'4.9' b'3.1' b'1.5' b'0.1' b'Iris-setosa']\n",
      " [b'5.4' b'3.7' b'1.5' b'0.2' b'Iris-setosa']\n",
      " [b'4.8' b'3.4' b'1.6' b'0.2' b'Iris-setosa']\n",
      " [b'4.8' b'3.0' b'1.4' nan b'Iris-setosa']\n",
      " [b'4.3' b'3.0' b'1.1' b'0.1' b'Iris-setosa']\n",
      " [b'5.8' b'4.0' b'1.2' b'0.2' b'Iris-setosa']\n",
      " [b'5.7' nan b'1.5' b'0.4' b'Iris-setosa']\n",
      " [b'5.4' b'3.9' b'1.3' b'0.4' b'Iris-setosa']\n",
      " [b'5.1' b'3.5' b'1.4' b'0.3' b'Iris-setosa']\n",
      " [b'5.7' b'3.8' b'1.7' b'0.3' nan]\n",
      " [b'5.1' b'3.8' b'1.5' b'0.3' b'Iris-setosa']\n",
      " [b'5.4' b'3.4' b'1.7' b'0.2' b'Iris-setosa']\n",
      " [nan b'3.7' b'1.5' b'0.4' b'Iris-setosa']\n",
      " [b'4.6' b'3.6' b'1.0' b'0.2' b'Iris-setosa']\n",
      " [b'5.1' nan b'1.7' b'0.5' b'Iris-setosa']\n",
      " [b'4.8' b'3.4' b'1.9' b'0.2' b'Iris-setosa']\n",
      " [b'5.0' b'3.0' b'1.6' b'0.2' b'Iris-setosa']\n",
      " [nan b'3.4' b'1.6' b'0.4' b'Iris-setosa']\n",
      " [b'5.2' b'3.5' b'1.5' b'0.2' b'Iris-setosa']\n",
      " [b'5.2' b'3.4' b'1.4' b'0.2' b'Iris-setosa']\n",
      " [b'4.7' b'3.2' b'1.6' b'0.2' b'Iris-setosa']\n",
      " [b'4.8' b'3.1' b'1.6' b'0.2' b'Iris-setosa']\n",
      " [b'5.4' b'3.4' b'1.5' b'0.4' b'Iris-setosa']\n",
      " [b'5.2' b'4.1' b'1.5' b'0.1' b'Iris-setosa']\n",
      " [b'5.5' b'4.2' nan b'0.2' b'Iris-setosa']\n",
      " [b'4.9' b'3.1' b'1.5' b'0.1' b'Iris-setosa']\n",
      " [nan b'3.2' b'1.2' b'0.2' b'Iris-setosa']\n",
      " [b'5.5' b'3.5' b'1.3' b'0.2' b'Iris-setosa']\n",
      " [b'4.9' b'3.1' nan b'0.1' b'Iris-setosa']\n",
      " [b'4.4' b'3.0' b'1.3' b'0.2' b'Iris-setosa']\n",
      " [nan b'3.4' b'1.5' b'0.2' b'Iris-setosa']\n",
      " [b'5.0' b'3.5' b'1.3' b'0.3' b'Iris-setosa']\n",
      " [b'4.5' b'2.3' b'1.3' b'0.3' b'Iris-setosa']\n",
      " [b'4.4' b'3.2' b'1.3' b'0.2' b'Iris-setosa']\n",
      " [b'5.0' b'3.5' b'1.6' b'0.6' b'Iris-setosa']\n",
      " [b'5.1' b'3.8' b'1.9' b'0.4' b'Iris-setosa']\n",
      " [b'4.8' b'3.0' b'1.4' b'0.3' b'Iris-setosa']\n",
      " [b'5.1' b'3.8' b'1.6' b'0.2' b'Iris-setosa']\n",
      " [b'4.6' b'3.2' b'1.4' b'0.2' b'Iris-setosa']\n",
      " [b'5.3' b'3.7' b'1.5' b'0.2' nan]\n",
      " [b'5.0' b'3.3' b'1.4' b'0.2' b'Iris-setosa']\n",
      " [b'7.0' b'3.2' b'4.7' b'1.4' b'Iris-versicolor']\n",
      " [b'6.4' b'3.2' b'4.5' b'1.5' b'Iris-versicolor']\n",
      " [b'6.9' b'3.1' b'4.9' b'1.5' b'Iris-versicolor']\n",
      " [b'5.5' b'2.3' b'4.0' b'1.3' b'Iris-versicolor']\n",
      " [b'6.5' b'2.8' b'4.6' b'1.5' b'Iris-versicolor']\n",
      " [b'5.7' b'2.8' b'4.5' b'1.3' b'Iris-versicolor']\n",
      " [b'6.3' b'3.3' b'4.7' b'1.6' b'Iris-versicolor']\n",
      " [b'4.9' b'2.4' b'3.3' b'1.0' b'Iris-versicolor']\n",
      " [b'6.6' b'2.9' b'4.6' b'1.3' b'Iris-versicolor']\n",
      " [b'5.2' b'2.7' b'3.9' b'1.4' b'Iris-versicolor']\n",
      " [nan b'2.0' b'3.5' b'1.0' b'Iris-versicolor']\n",
      " [b'5.9' b'3.0' b'4.2' b'1.5' b'Iris-versicolor']\n",
      " [b'6.0' b'2.2' b'4.0' b'1.0' b'Iris-versicolor']\n",
      " [b'6.1' b'2.9' b'4.7' b'1.4' b'Iris-versicolor']\n",
      " [b'5.6' b'2.9' b'3.6' b'1.3' nan]\n",
      " [b'6.7' b'3.1' b'4.4' b'1.4' b'Iris-versicolor']\n",
      " [b'5.6' b'3.0' b'4.5' b'1.5' b'Iris-versicolor']\n",
      " [b'5.8' b'2.7' nan b'1.0' b'Iris-versicolor']\n",
      " [b'6.2' b'2.2' b'4.5' b'1.5' b'Iris-versicolor']\n",
      " [b'5.6' b'2.5' b'3.9' b'1.1' b'Iris-versicolor']\n",
      " [b'5.9' b'3.2' nan b'1.8' b'Iris-versicolor']\n",
      " [b'6.1' b'2.8' b'4.0' b'1.3' nan]\n",
      " [b'6.3' b'2.5' b'4.9' b'1.5' b'Iris-versicolor']\n",
      " [b'6.1' b'2.8' b'4.7' b'1.2' b'Iris-versicolor']\n",
      " [b'6.4' b'2.9' b'4.3' b'1.3' b'Iris-versicolor']\n",
      " [b'6.6' b'3.0' b'4.4' b'1.4' b'Iris-versicolor']\n",
      " [b'6.8' b'2.8' b'4.8' b'1.4' b'Iris-versicolor']\n",
      " [b'6.7' b'3.0' b'5.0' b'1.7' b'Iris-versicolor']\n",
      " [b'6.0' b'2.9' b'4.5' b'1.5' b'Iris-versicolor']\n",
      " [b'5.7' b'2.6' b'3.5' b'1.0' b'Iris-versicolor']\n",
      " [b'5.5' b'2.4' b'3.8' b'1.1' b'Iris-versicolor']\n",
      " [b'5.5' b'2.4' b'3.7' b'1.0' b'Iris-versicolor']\n",
      " [b'5.8' b'2.7' b'3.9' b'1.2' b'Iris-versicolor']\n",
      " [b'6.0' b'2.7' b'5.1' b'1.6' b'Iris-versicolor']\n",
      " [b'5.4' b'3.0' b'4.5' b'1.5' b'Iris-versicolor']\n",
      " [b'6.0' b'3.4' b'4.5' b'1.6' b'Iris-versicolor']\n",
      " [b'6.7' b'3.1' b'4.7' b'1.5' b'Iris-versicolor']\n",
      " [b'6.3' b'2.3' b'4.4' b'1.3' b'Iris-versicolor']\n",
      " [b'5.6' b'3.0' b'4.1' b'1.3' b'Iris-versicolor']\n",
      " [b'5.5' b'2.5' b'4.0' b'1.3' b'Iris-versicolor']\n",
      " [b'5.5' b'2.6' b'4.4' b'1.2' b'Iris-versicolor']\n",
      " [b'6.1' b'3.0' b'4.6' b'1.4' b'Iris-versicolor']\n",
      " [b'5.8' b'2.6' b'4.0' b'1.2' b'Iris-versicolor']\n",
      " [b'5.0' b'2.3' b'3.3' b'1.0' b'Iris-versicolor']\n",
      " [b'5.6' b'2.7' b'4.2' b'1.3' b'Iris-versicolor']\n",
      " [b'5.7' b'3.0' b'4.2' b'1.2' b'Iris-versicolor']\n",
      " [b'5.7' b'2.9' b'4.2' b'1.3' b'Iris-versicolor']\n",
      " [b'6.2' b'2.9' b'4.3' b'1.3' b'Iris-versicolor']\n",
      " [b'5.1' b'2.5' b'3.0' b'1.1' b'Iris-versicolor']\n",
      " [b'5.7' b'2.8' b'4.1' b'1.3' b'Iris-versicolor']\n",
      " [b'6.3' b'3.3' b'6.0' b'2.5' b'Iris-virginica']\n",
      " [b'5.8' b'2.7' b'5.1' b'1.9' b'Iris-virginica']\n",
      " [b'7.1' b'3.0' b'5.9' b'2.1' b'Iris-virginica']\n",
      " [b'6.3' b'2.9' b'5.6' b'1.8' b'Iris-virginica']\n",
      " [b'6.5' b'3.0' b'5.8' b'2.2' b'Iris-virginica']\n",
      " [b'7.6' b'3.0' b'6.6' b'2.1' b'Iris-virginica']\n",
      " [b'4.9' b'2.5' b'4.5' b'1.7' b'Iris-virginica']\n",
      " [nan b'2.9' b'6.3' b'1.8' b'Iris-virginica']\n",
      " [b'6.7' b'2.5' b'5.8' b'1.8' b'Iris-virginica']\n",
      " [b'7.2' b'3.6' b'6.1' b'2.5' b'Iris-virginica']\n",
      " [b'6.5' b'3.2' b'5.1' b'2.0' b'Iris-virginica']\n",
      " [b'6.4' b'2.7' b'5.3' b'1.9' b'Iris-virginica']\n",
      " [b'6.8' b'3.0' b'5.5' b'2.1' b'Iris-virginica']\n",
      " [b'5.7' b'2.5' b'5.0' b'2.0' b'Iris-virginica']\n",
      " [b'5.8' b'2.8' b'5.1' b'2.4' b'Iris-virginica']\n",
      " [b'6.4' b'3.2' b'5.3' b'2.3' b'Iris-virginica']\n",
      " [b'6.5' b'3.0' b'5.5' b'1.8' b'Iris-virginica']\n",
      " [b'7.7' b'3.8' b'6.7' b'2.2' b'Iris-virginica']\n",
      " [b'7.7' b'2.6' b'6.9' b'2.3' b'Iris-virginica']\n",
      " [b'6.0' b'2.2' b'5.0' b'1.5' b'Iris-virginica']\n",
      " [b'6.9' b'3.2' b'5.7' b'2.3' b'Iris-virginica']\n",
      " [b'5.6' b'2.8' b'4.9' b'2.0' b'Iris-virginica']\n",
      " [b'7.7' b'2.8' b'6.7' b'2.0' b'Iris-virginica']\n",
      " [b'6.3' b'2.7' b'4.9' b'1.8' b'Iris-virginica']\n",
      " [b'6.7' b'3.3' b'5.7' b'2.1' b'Iris-virginica']\n",
      " [b'7.2' b'3.2' b'6.0' b'1.8' b'Iris-virginica']\n",
      " [b'6.2' b'2.8' b'4.8' b'1.8' b'Iris-virginica']\n",
      " [nan b'3.0' b'4.9' b'1.8' b'Iris-virginica']\n",
      " [b'6.4' b'2.8' b'5.6' b'2.1' b'Iris-virginica']\n",
      " [b'7.2' b'3.0' b'5.8' b'1.6' b'Iris-virginica']\n",
      " [b'7.4' b'2.8' b'6.1' b'1.9' b'Iris-virginica']\n",
      " [b'7.9' b'3.8' b'6.4' b'2.0' b'Iris-virginica']\n",
      " [b'6.4' b'2.8' b'5.6' b'2.2' b'Iris-virginica']\n",
      " [b'6.3' b'2.8' b'5.1' b'1.5' b'Iris-virginica']\n",
      " [b'6.1' b'2.6' b'5.6' b'1.4' b'Iris-virginica']\n",
      " [b'7.7' b'3.0' b'6.1' b'2.3' b'Iris-virginica']\n",
      " [b'6.3' b'3.4' b'5.6' b'2.4' b'Iris-virginica']\n",
      " [b'6.4' b'3.1' b'5.5' b'1.8' b'Iris-virginica']\n",
      " [b'6.0' b'3.0' b'4.8' b'1.8' b'Iris-virginica']\n",
      " [b'6.9' b'3.1' b'5.4' b'2.1' b'Iris-virginica']\n",
      " [b'6.7' b'3.1' b'5.6' b'2.4' b'Iris-virginica']\n",
      " [b'6.9' b'3.1' b'5.1' b'2.3' b'Iris-virginica']\n",
      " [b'5.8' b'2.7' b'5.1' b'1.9' b'Iris-virginica']\n",
      " [b'6.8' b'3.2' b'5.9' b'2.3' b'Iris-virginica']\n",
      " [b'6.7' b'3.3' b'5.7' b'2.5' b'Iris-virginica']\n",
      " [b'6.7' b'3.0' b'5.2' b'2.3' b'Iris-virginica']\n",
      " [b'6.3' b'2.5' b'5.0' b'1.9' b'Iris-virginica']\n",
      " [nan b'3.0' b'5.2' b'2.0' b'Iris-virginica']\n",
      " [b'6.2' b'3.4' b'5.4' b'2.3' b'Iris-virginica']\n",
      " [b'5.9' b'3.0' b'5.1' b'1.8' b'Iris-virginica']]\n"
     ]
    }
   ],
   "execution_count": 165
  },
  {
   "cell_type": "markdown",
   "metadata": {
    "id": "9GGKhNkhzx5n"
   },
   "source": [
    "### Ćwiczenie 2\n",
    "\n",
    "Rozważmy wyrażenie wielomianowe\n",
    "\n",
    "\n",
    "<a id='equation-np-polynom'></a>\n",
    "$$\n",
    "p(x) = a_0 + a_1 x + a_2 x^2 + \\cdots a_N x^N = \\sum_{n=0}^N a_n x^n \\tag{1}\n",
    "$$\n",
    "\n",
    "Napisz funkcję wykorzystującą NumPy i tablice do obliczenia podanego wyrażenia\n",
    "\n",
    "- Podpowiedź: Użyj `np.cumprod()`  \n",
    "\n",
    "\n",
    "\n",
    "<a id='np-ex2'></a>"
   ]
  },
  {
   "metadata": {
    "ExecuteTime": {
     "end_time": "2025-10-22T14:52:29.995543Z",
     "start_time": "2025-10-22T14:52:29.990562Z"
    }
   },
   "cell_type": "code",
   "source": [
    "import numpy as np\n",
    "\n",
    "def foo(a, x):\n",
    "    x_array = np.full(len(a) - 1, x) #tworzy tablicę wypełnioną wartością x, o długości równej len(a) - 1 [3,3,3] dla x=3 i a o długości 4\n",
    "    powers = np.concatenate(([1], np.cumprod(x_array))) #tworzy tablicę potęg x: [1, x, x^2, x^3]\n",
    "    return np.sum(a * powers) # mnoży współczynniki a przez odpowiednie potęgi x i sumuje wyniki\n",
    "\n",
    "a = np.array([5, 7, 9, 8]) # 5 + 7x + 9x^2+ 8x^3\n",
    "x = 3\n",
    "print(foo(a, x))"
   ],
   "outputs": [
    {
     "name": "stdout",
     "output_type": "stream",
     "text": [
      "323\n"
     ]
    }
   ],
   "execution_count": 166
  },
  {
   "cell_type": "markdown",
   "metadata": {
    "id": "QMpuQbnMzx5r"
   },
   "source": [
    "### Ćwiczenie 3\n",
    "\n",
    "Niech `q` będzie tablicą NumPy o długości `n` z `q.sum() == 1`.\n",
    "\n",
    "Załóżmy, że q reprezentuje [funkcję masy prawdopodobieństwa.](https://pl.wikipedia.org/wiki/Funkcja_masy_prawdopodobieństwa).\n",
    "\n",
    "Chcemy wygenerować dyskretną zmienną losową $ x $\n",
    "   tak, że $ \\mathbb P\\{x = i\\} = q_i $.\n",
    "\n",
    "Innymi słowy, `x` przyjmuje wartości z zakresu `range(len(q))` i `x = i` z prawdopodobieństwem `q[i]`.\n",
    "\n",
    "Algorytm standardowy (transformacja odwrotna) jest następujący:\n",
    "\n",
    "- Divide the unit interval $ [0, 1] $ into $ n $ subintervals $ I_0, I_1, \\ldots, I_{n-1} $ such that the length of $ I_i $ is $ q_i $.  \n",
    "- Draw a uniform random variable $ U $ on $ [0, 1] $ and return the $ i $ such that $ U \\in I_i $.  \n",
    "\n",
    "\n",
    "Prawdopodobieństwo wylosowania $ i $  to długość  $ I_i $, co jest równe $ q_i $.\n",
    "\n",
    "Algorytm możemy zaimplementować w następujący sposób:"
   ]
  },
  {
   "cell_type": "markdown",
   "metadata": {
    "id": "UGC5tyjfzx5r"
   },
   "source": [
    "Jeśli nie widzisz, jak to działa, spróbuj przemyśleć przebieg działania na prostym przykładzie, na przykład `q = [0.25, 0.75]`. Pomocny jest rysunek na papierze.\n",
    "\n",
    "Twoje zadanie polega na przyspieszeniu tego za pomocą NumPy, unikając jawnych pętli\n",
    "\n",
    "- Podpowiedź: Skorzystaj z `np.searchsorted` i `np.cumsum`  \n",
    "\n",
    "\n",
    "If you can, zaimplementuj tę funkcjonalność jako klasę o nazwie `DiscreteRV`,gdzie\n",
    "\n",
    "- danymi dla instancji klasy jest wektor prawdopodobieństw `q`  \n",
    "- klasa posiada metodę `draw()`, która zwraca jeden losowanie zgodnie z algorytmem opisanym powyżej\n",
    "\n",
    "\n",
    "Jeśli jesteś w stanie, napisz metodę tak, aby `draw(k)` zwracało `k` losowań z  `q`.\n",
    "\n",
    "\n",
    "<a id='np-ex3'></a>"
   ]
  },
  {
   "metadata": {
    "hide-output": false,
    "id": "l27-GQXbzx5r",
    "ExecuteTime": {
     "end_time": "2025-10-22T14:52:39.249921Z",
     "start_time": "2025-10-22T14:52:30.017183Z"
    }
   },
   "cell_type": "code",
   "source": [
    "from random import uniform\n",
    "import time\n",
    "\n",
    "def sample(q):\n",
    "    a = 0.0\n",
    "    U = uniform(0, 1)\n",
    "    for i in range(len(q)):\n",
    "        if a < U <= a + q[i]:\n",
    "            return i\n",
    "        a = a + q[i]\n",
    "\n",
    "class DiscreteRV:\n",
    "    def __init__(self, q):\n",
    "\n",
    "        q = np.asarray(q, dtype=float)\n",
    "        if not np.isclose(q.sum(), 1.0):\n",
    "            raise ValueError(\"Prawdopodobieństwa muszą sumować się do 1.\")\n",
    "        self.q = q\n",
    "        # Obliczamy dystrybuantę\n",
    "        self.cdf = np.cumsum(q)\n",
    "\n",
    "    def draw(self, k=None):\n",
    "\n",
    "        if k is None:\n",
    "            U = np.random.rand()  # losowa liczba z (0,1)\n",
    "            return np.searchsorted(self.cdf, U)\n",
    "        else:\n",
    "            U = np.random.rand(k)  # k liczb z (0,1)\n",
    "            return np.searchsorted(self.cdf, U)\n",
    "\n",
    "q = np.array([0.1, 0.2, 0.3, 0.4])\n",
    "X = DiscreteRV(q)\n",
    "\n",
    "# Test sample\n",
    "start = time.time()\n",
    "for _ in range(10000000):\n",
    "    sample(q)\n",
    "print(\"Loop version:\", time.time() - start)\n",
    "\n",
    "# Test NumPy\n",
    "start = time.time()\n",
    "X.draw(10000000)\n",
    "print(\"NumPy version:\", time.time() - start)"
   ],
   "outputs": [
    {
     "name": "stdout",
     "output_type": "stream",
     "text": [
      "Loop version: 9.050013303756714\n",
      "NumPy version: 0.17603087425231934\n"
     ]
    }
   ],
   "execution_count": 167
  }
 ],
 "metadata": {
  "colab": {
   "provenance": []
  },
  "date": 1.5843347482838585E9,
  "filename": "numpy.rst",
  "kernelspec": {
   "display_name": "Python 3 (ipykernel)",
   "language": "python",
   "name": "python3"
  },
  "language_info": {
   "codemirror_mode": {
    "name": "ipython",
    "version": 3
   },
   "file_extension": ".py",
   "mimetype": "text/x-python",
   "name": "python",
   "nbconvert_exporter": "python",
   "pygments_lexer": "ipython3",
   "version": "3.9.12"
  },
  "title": "NumPy"
 },
 "nbformat": 4,
 "nbformat_minor": 1
}
