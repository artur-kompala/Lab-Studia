{
 "cells": [
  {
   "metadata": {},
   "cell_type": "markdown",
   "source": [
    "\n",
    "**Wstępna obróbka danych - Artur Kompała**\n",
    "\n",
    "**Zadanie 1**\n",
    "\n",
    "Zakładając, że liczba przepracowanych godzin przez pracowników na rzecz nowego projektu wygląda następująco:\n",
    "130, 132, 138, 136, 131, 153, 131, 133, 129, 133, 110, 132, 129, 134, 135, 132, 135, 134, 133, 132, 130, 131, 134,\n",
    "135, 135, 134, 136, 133, 133, 130.\n",
    "\n",
    "a) Znajdź odchylenia metodą wartości średniej i odchylenia standardowego. Zastosuj regułę 2 sigma dla punktów oddalonych (ang. mild outlier) oraz regułę 3 sigma dla punktów skrajnie oddalonych (ang. extreme\n",
    "outlier).\n",
    "\n",
    "b) Znajdź odchylenia metodą rozstępu międzykwartylowego. Zastosuj parametr k=1,5 dla punktów oddalonych (ang. mild outlier) oraz parametr k=3 dla punktów skrajnie oddalonych (ang. extreme outlier)."
   ],
   "id": "8a77807f92f26ee"
  },
  {
   "metadata": {},
   "cell_type": "markdown",
   "source": "Importowanie bibliotek i danych",
   "id": "151b70566cd7c265"
  },
  {
   "metadata": {
    "ExecuteTime": {
     "end_time": "2025-10-22T22:33:20.154642Z",
     "start_time": "2025-10-22T22:33:20.150764Z"
    }
   },
   "cell_type": "code",
   "source": [
    "import numpy as np\n",
    "\n",
    "hours = np.array([ 130,132,138,136,131,153,131,133,129,133,110,132,129,134,135,132,135,134,133,132,130,131,134,\n",
    " 135,135,134,136,133,133,130])"
   ],
   "id": "ffbaa0cb6d1eb94d",
   "outputs": [],
   "execution_count": 2
  },
  {
   "metadata": {},
   "cell_type": "markdown",
   "source": "(a) Wykrywanie odchyleń metodą średniej i odchylenia standardowego z regułami 2 sigma i 3 sigma",
   "id": "f3cb62ff3e656340"
  },
  {
   "metadata": {
    "ExecuteTime": {
     "end_time": "2025-10-09T16:52:24.982277Z",
     "start_time": "2025-10-09T16:52:24.976165Z"
    }
   },
   "cell_type": "code",
   "source": [
    "mean = np.mean(hours) # Średnia\n",
    "std = np.std(hours)  # Populacyjne odchylenie standardowe\n",
    "\n",
    "mild_lower, mild_upper = mean - 2*std, mean + 2*std # Zakres 2 sigma\n",
    "extreme_lower, extreme_upper = mean - 3*std, mean + 3*std # Zakres 3 sigma\n",
    "\n",
    "mild_outliers = hours[(hours < mild_lower) | (hours > mild_upper)] # Punkty oddalone\n",
    "extreme_outliers = hours[(hours < extreme_lower) | (hours > extreme_upper)] # Punkty skrajnie oddalone\n",
    "\n",
    "print(\"=== Metoda średniej i odchylenia standardowego ===\")\n",
    "print(f\"Średnia: {mean:.2f}, Odchylenie standardowe: {std:.2f}\")\n",
    "print(f\"Zakres 2 sigma: ({mild_lower:.2f}, {mild_upper:.2f})\")\n",
    "print(f\"Zakres 3 sigma: ({extreme_lower:.2f}, {extreme_upper:.2f})\")\n",
    "print(f\"Punkty oddalone (2 sigma): {mild_outliers}\")\n",
    "print(f\"Punkty skrajnie oddalone (3 sigma): {extreme_outliers}\\n\")"
   ],
   "id": "ddc64b573f265fd3",
   "outputs": [
    {
     "name": "stdout",
     "output_type": "stream",
     "text": [
      "=== Metoda średniej i odchylenia standardowego ===\n",
      "Średnia: 132.77, Odchylenie standardowe: 5.96\n",
      "Zakres 2 sigma: (120.85, 144.69)\n",
      "Zakres 3 sigma: (114.89, 150.64)\n",
      "Punkty oddalone (2 sigma): [153 110]\n",
      "Punkty skrajnie oddalone (3 sigma): [153 110]\n",
      "\n"
     ]
    }
   ],
   "execution_count": 23
  },
  {
   "metadata": {},
   "cell_type": "markdown",
   "source": "(b) Wykrywanie odchyleń metodą rozstępu międzykwartylowego z parametrami k=1.5 i k=3.",
   "id": "36303da19b4f81b3"
  },
  {
   "metadata": {
    "ExecuteTime": {
     "end_time": "2025-10-09T16:52:25.001640Z",
     "start_time": "2025-10-09T16:52:24.993564Z"
    }
   },
   "cell_type": "code",
   "source": [
    "Q1 = np.percentile(hours, 25) # Pierwszy kwartyl\n",
    "Q3 = np.percentile(hours, 75) # Trzeci kwartyl\n",
    "IQR = Q3 - Q1 # Rozstęp międzykwartylowy\n",
    "\n",
    "\n",
    "mild_lower_iqr, mild_upper_iqr = Q1 - 1.5*IQR, Q3 + 1.5*IQR # Zakres k=1.5\n",
    "extreme_lower_iqr, extreme_upper_iqr = Q1 - 3*IQR, Q3 + 3*IQR # Zakres k=3\n",
    "\n",
    "mild_outliers_iqr = hours[(hours < mild_lower_iqr) | (hours > mild_upper_iqr)] # Punkty oddalone\n",
    "extreme_outliers_iqr = hours[(hours < extreme_lower_iqr) | (hours > extreme_upper_iqr)] # Punkty skrajnie oddalone\n",
    "\n",
    "print(\"=== Metoda rozstępu międzykwartylowego\")\n",
    "print(f\"Q1: {Q1:.2f}, Q3: {Q3:.2f}, IQR: {IQR:.2f}\")\n",
    "print(f\"Zakres (k=1.5): ({mild_lower_iqr:.2f}, {mild_upper_iqr:.2f})\")\n",
    "print(f\"Zakres (k=3): ({extreme_lower_iqr:.2f}, {extreme_upper_iqr:.2f})\")\n",
    "print(f\"Punkty oddalone (k=1.5): {mild_outliers_iqr}\")\n",
    "print(f\"Punkty skrajnie oddalone (k=3): {extreme_outliers_iqr}\")"
   ],
   "id": "57fb734a59558ad2",
   "outputs": [
    {
     "name": "stdout",
     "output_type": "stream",
     "text": [
      "=== Metoda rozstępu międzykwartylowego\n",
      "Q1: 131.00, Q3: 134.75, IQR: 3.75\n",
      "Zakres (k=1.5): (125.38, 140.38)\n",
      "Zakres (k=3): (119.75, 146.00)\n",
      "Punkty oddalone (k=1.5): [153 110]\n",
      "Punkty skrajnie oddalone (k=3): [153 110]\n"
     ]
    }
   ],
   "execution_count": 24
  },
  {
   "metadata": {
    "ExecuteTime": {
     "end_time": "2025-10-09T16:52:25.021785Z",
     "start_time": "2025-10-09T16:52:25.019997Z"
    }
   },
   "cell_type": "code",
   "source": "",
   "id": "43d3e492d09bacda",
   "outputs": [],
   "execution_count": null
  }
 ],
 "metadata": {
  "kernelspec": {
   "display_name": "Python 3",
   "language": "python",
   "name": "python3"
  },
  "language_info": {
   "codemirror_mode": {
    "name": "ipython",
    "version": 2
   },
   "file_extension": ".py",
   "mimetype": "text/x-python",
   "name": "python",
   "nbconvert_exporter": "python",
   "pygments_lexer": "ipython2",
   "version": "2.7.6"
  }
 },
 "nbformat": 4,
 "nbformat_minor": 5
}
