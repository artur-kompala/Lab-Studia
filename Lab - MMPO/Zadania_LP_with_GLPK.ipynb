{
 "cells": [
  {
   "cell_type": "markdown",
   "metadata": {
    "id": "pG_NxtPhowx0"
   },
   "source": [
    "# Instalacja GLPK\n",
    "\n",
    "W pierwszej kolejności należy wykonać **instalację** GNU Linear Programming Kit, np. wg oficjalnych [instrukcji](https://www.gnu.org/software/glpk/).\n",
    "\n",
    "Poniżej przedstawiono proces instalacji w systemie Linux na potrzeby niniejszego notatnika.\n",
    "\n",
    "Proces kompilacji może potrwać ok 2 do 3 minut."
   ]
  },
  {
   "cell_type": "code",
   "metadata": {
    "id": "ib4T8oo7N1BG",
    "ExecuteTime": {
     "end_time": "2025-10-22T21:48:32.476230Z",
     "start_time": "2025-10-22T21:48:32.287921Z"
    }
   },
   "source": [
    "!wget -N https://ftp.gnu.org/gnu/glpk/glpk-5.0.tar.gz\n",
    "!tar -xf glpk-5.0.tar.gz\n",
    "# Kompilacja i instalacja\n",
    "!echo \"Rozpoczynam kompilację. Może to potrwać kilka minut...\"\n",
    "!cd glpk-5.0/ && ./configure 1> /dev/null && make 1> /dev/null && make install 1> /dev/null\n",
    "# Rejestracja biblioteki libglpk\n",
    "!echo /usr/local/lib/libglpk.so.40 | tee /etc/ld.so.conf.d/libglpk.con && ldconfig\n",
    "!echo \"Zakończone\"\n",
    "\n",
    "\n",
    "# Definiujemy nowe \"cell magic\" dla uproszczenia uruchamiania solvera Glpsol\n",
    "\n",
    "import re\n",
    "import tempfile\n",
    "import subprocess\n",
    "from pathlib import Path\n",
    "from IPython import get_ipython\n",
    "from IPython.display import HTML, display\n",
    "from IPython.core.magic import Magics, cell_magic, magics_class\n",
    "import shlex\n",
    "import html\n",
    "import logging\n",
    "\n",
    "logging.basicConfig(level=logging.ERROR)\n",
    "logger = logging.getLogger(__name__)\n",
    "\n",
    "HIGHLIGHT_RULES = {\n",
    "    'color:green': re.compile(r'\\b((?:INTEGER)?\\s*OPTIMAL[\\s\\w]*?\\n)\\b', re.IGNORECASE),\n",
    "    'color:red': re.compile(r'\\b(INFEASIBLE|UNBOUNDED)\\b', re.IGNORECASE),\n",
    "    'color:#FF0000': re.compile(r'\\b(MathProg model processing error)\\b', re.IGNORECASE),\n",
    "    'color:#c76e00': re.compile(r'((?:\\bobjective:.*?\\n)|(?:\\bDisplay\\sstatement.*?\\n))', re.IGNORECASE),\n",
    "}\n",
    "\n",
    "def syntax_highlight(text):\n",
    "    \"\"\"\n",
    "    Applies syntax highlighting to the glpsol output by wrapping matched patterns with span tags.\n",
    "    \"\"\"\n",
    "    # Escape HTML special characters\n",
    "    escaped_text = html.escape(text)\n",
    "\n",
    "    # Apply highlighting rules\n",
    "    for style, pattern in HIGHLIGHT_RULES.items():\n",
    "        replacement = rf'<span style=\"{style}\">\\1</span>'\n",
    "        escaped_text = pattern.sub(replacement, escaped_text)\n",
    "\n",
    "    # Return the formatted HTML\n",
    "    return f'<pre style=\"max-width: 800px; white-space: pre-wrap; font-family: monospace;\">{escaped_text}</pre>'\n",
    "\n",
    "\n",
    "@magics_class\n",
    "class GlpkMagic(Magics):\n",
    "    @cell_magic\n",
    "    def glpsol(self, line, cell):\n",
    "        \"\"\"\n",
    "        Cell magic to run glpsol on the provided LP model.\n",
    "\n",
    "        Usage:\n",
    "        %%glpsol [glpsol options]\n",
    "        <LP model>\n",
    "        \"\"\"\n",
    "        lp_file = None\n",
    "        sol_file = None\n",
    "        try:\n",
    "            with tempfile.TemporaryDirectory() as tmpdir:\n",
    "                tmp_path = Path(tmpdir)\n",
    "                lp_file = tmp_path / \"model.lp\"\n",
    "                sol_file = tmp_path / \"model.sol\"\n",
    "\n",
    "                # Write the LP model to the temporary .lp file\n",
    "                lp_file.write_text(cell, encoding='utf-8')\n",
    "\n",
    "                # Parse command-line options safely\n",
    "                cmd_options = shlex.split(line)\n",
    "                cmd = ['glpsol'] + cmd_options + ['-m', str(lp_file), '-o', str(sol_file)]\n",
    "\n",
    "                # Run glpsol and capture output\n",
    "                result = subprocess.run(\n",
    "                    cmd,\n",
    "                    stdout=subprocess.PIPE,\n",
    "                    stderr=subprocess.PIPE,\n",
    "                    text=True,\n",
    "                    check=True\n",
    "                )\n",
    "\n",
    "                output = result.stdout\n",
    "\n",
    "                # Check if the solution file exists and read its content\n",
    "                if sol_file.exists():\n",
    "                    sol_content = sol_file.read_text(encoding='utf-8')\n",
    "                    output += ('\\n' + '-' * 80 + '\\n') + sol_content\n",
    "                else:\n",
    "                    logger.warning(f\"Expected solution file {sol_file} not found.\")\n",
    "\n",
    "        except subprocess.CalledProcessError as e:\n",
    "            # Capture and process error output\n",
    "            output = e.stdout + '\\n' + e.stderr\n",
    "            processed_output = self._process_error_output(output, cell, lp_file)\n",
    "            highlighted = syntax_highlight(processed_output)\n",
    "            display(HTML(highlighted))\n",
    "            raise RuntimeError(processed_output) from None\n",
    "        except Exception as e:\n",
    "            # Handle unexpected exceptions\n",
    "            logger.error(\"An unexpected error occurred while running glpsol.\", exc_info=True)\n",
    "            display(HTML(f'<span style=\"color:red;\">An unexpected error occurred: {e}</span>'))\n",
    "            return\n",
    "\n",
    "        # Apply syntax highlighting and display\n",
    "        highlighted = syntax_highlight(output)\n",
    "        display(HTML(highlighted))\n",
    "\n",
    "    def _process_error_output(self, output, cell, lp_file):\n",
    "        \"\"\"\n",
    "        Processes glpsol error output to map errors back to the LP model lines.\n",
    "        \"\"\"\n",
    "        processed = []\n",
    "        input_lines = cell.split('\\n')\n",
    "        lp_filename = lp_file.name if lp_file else 'model.lp'\n",
    "\n",
    "        for ln in output.split('\\n'):\n",
    "            if ln.startswith(f\"{lp_filename}:\"):\n",
    "                processed.append(f'\\n{ln}')\n",
    "                tail = ln[len(lp_filename) + 1:]\n",
    "                match = re.match(r\"^\\d+\", tail)\n",
    "                if match:\n",
    "                    orig_line_index = int(match.group()) - 1\n",
    "                    if 0 <= orig_line_index < len(input_lines):\n",
    "                        processed.append(input_lines[orig_line_index])\n",
    "            else:\n",
    "                processed.append(ln)\n",
    "\n",
    "        return '\\n'.join(processed)\n",
    "\n",
    "# Register the magic with IPython\n",
    "ip = get_ipython()\n",
    "if ip:\n",
    "    ip.register_magics(GlpkMagic)\n",
    "else:\n",
    "    logger.error(\"IPython environment not found. The GlpkMagic was not registered.\")"
   ],
   "outputs": [
    {
     "name": "stderr",
     "output_type": "stream",
     "text": [
      "'wget' is not recognized as an internal or external command,\n",
      "operable program or batch file.\n",
      "tar: Error opening archive: Failed to open 'glpk-5.0.tar.gz'\n"
     ]
    },
    {
     "name": "stdout",
     "output_type": "stream",
     "text": [
      "\"Rozpoczynam kompilacje. Moze to potrwac kilka minut...\"\n"
     ]
    },
    {
     "name": "stderr",
     "output_type": "stream",
     "text": [
      "The system cannot find the path specified.\n",
      "'tee' is not recognized as an internal or external command,\n",
      "operable program or batch file.\n"
     ]
    },
    {
     "name": "stdout",
     "output_type": "stream",
     "text": [
      "\"Zakonczone\"\n"
     ]
    }
   ],
   "execution_count": 5
  },
  {
   "cell_type": "markdown",
   "metadata": {
    "id": "Z3sIM850oMZ6"
   },
   "source": [
    "## Testowanie instalacji\n",
    "\n",
    "W przypadku pomyślnie zakończonej instalacji poniższe wykonanie powinno skutkować wyświetleniem informacji na temat wersji pakietu GLPK, np.:\n",
    "`GLPSOL--GLPK LP/MIP Solver 5.0`"
   ]
  },
  {
   "cell_type": "code",
   "metadata": {
    "id": "Gwvs7f2qnYvq",
    "ExecuteTime": {
     "end_time": "2025-10-22T21:48:32.515249Z",
     "start_time": "2025-10-22T21:48:32.485047Z"
    }
   },
   "source": [
    "! glpsol -v"
   ],
   "outputs": [
    {
     "name": "stdout",
     "output_type": "stream",
     "text": [
      "GLPSOL--GLPK LP/MIP Solver 5.0\n",
      "Copyright (C) 2000-2020 Free Software Foundation, Inc.\n",
      "\n",
      "This program has ABSOLUTELY NO WARRANTY.\n",
      "\n",
      "This program is free software; you may re-distribute it under the terms\n",
      "of the GNU General Public License version 3 or later.\n"
     ]
    }
   ],
   "execution_count": 6
  },
  {
   "cell_type": "markdown",
   "metadata": {
    "id": "taGMFA3fpJwG"
   },
   "source": [
    "## Instalacja -- Windows\n",
    "\n",
    "Informacje oraz pliki `*.bat` dla systemu Windows znajdują się w poniższym katalogu.\n",
    "\n",
    "Instalacja wymaga kompilatora `Microsoft Visual C++ v14`"
   ]
  },
  {
   "cell_type": "code",
   "metadata": {
    "id": "i4npi_z8paXu",
    "ExecuteTime": {
     "end_time": "2025-10-22T21:48:32.552107Z",
     "start_time": "2025-10-22T21:48:32.526528Z"
    }
   },
   "source": [
    "!cd glpk-5.0/w64/ && cat readme.txt"
   ],
   "outputs": [
    {
     "name": "stderr",
     "output_type": "stream",
     "text": [
      "The system cannot find the path specified.\n"
     ]
    }
   ],
   "execution_count": 7
  },
  {
   "cell_type": "markdown",
   "metadata": {
    "id": "QOmHiU4ktEWd"
   },
   "source": [
    "## Dokumentacja\n",
    "\n",
    "Oficjalna dokumentacja pakietu znajduje się w plikach `doc/glpk.pdf' oraz `doc/gmpl.pdf`.\n",
    "\n",
    "Kopię można również pobrać, np. z fossies.org:\n",
    "* [gmpl.pdf](https://fossies.org/linux/glpk/doc/gmpl.pdf) -- dokumentacja języka MathProg\n",
    "* [glpk.pdf](https://fossies.org/linux/glpk/doc/glpk.pdf) -- dokumentacja solvera GLPK"
   ]
  },
  {
   "cell_type": "markdown",
   "metadata": {
    "id": "Iku3H8Y9unP1"
   },
   "source": [
    "# Przykład 1.\n",
    "\n",
    "Przykładowy model dotyczący produkcji zabawek, prezentowany na wykładzie.\n",
    "\n",
    "**Uwaga**: Pierwszy wiersz `%%writefile m1.mod` mówi, że wszystko poniżej zostanie zapisane w pliku m1.mod (w bieżącym katalogu). Umożliwi nam to\n",
    "przygotowanie pliku z programem dla solvera."
   ]
  },
  {
   "cell_type": "code",
   "metadata": {
    "id": "7S7XpuY0uyLZ",
    "ExecuteTime": {
     "end_time": "2025-10-22T21:48:32.567149Z",
     "start_time": "2025-10-22T21:48:32.561781Z"
    }
   },
   "source": [
    "%%writefile m1.mod\n",
    "\n",
    "var x1 >= 0; /* żołnierzyki */\n",
    "var x2 >= 0; /* pociągi */\n",
    "\n",
    "/* Funkcja celu: */\n",
    "maximize zysk: 4*x1 + 3*x2;\n",
    "\n",
    "/* Ograniczenia: */\n",
    "s.t. Materials : 2*x1 + 4*x2 <= 220;\n",
    "s.t. Labor     : 3*x1 + 2*x2 <= 150;\n",
    "\n",
    "end;"
   ],
   "outputs": [
    {
     "name": "stdout",
     "output_type": "stream",
     "text": [
      "Overwriting m1.mod\n"
     ]
    }
   ],
   "execution_count": 8
  },
  {
   "cell_type": "code",
   "metadata": {
    "id": "xPIRNukvvDHu",
    "colab": {
     "base_uri": "https://localhost:8080/"
    },
    "outputId": "8f674f21-79c8-40fe-88cd-8799de7a984c",
    "ExecuteTime": {
     "end_time": "2025-10-22T21:48:32.614126Z",
     "start_time": "2025-10-22T21:48:32.583570Z"
    }
   },
   "source": [
    "# Uruchamiamy solver podając parametr \"-m zad1.mod\" wskazując tym samym plik\n",
    "# z modelem:\n",
    "\n",
    "! glpsol -m m1.mod -o m1.sol"
   ],
   "outputs": [
    {
     "name": "stdout",
     "output_type": "stream",
     "text": [
      "GLPSOL--GLPK LP/MIP Solver 5.0\n",
      "Parameter(s) specified in the command line:\n",
      " -m m1.mod -o m1.sol\n",
      "Reading model section from m1.mod...\n",
      "12 lines were read\n",
      "Generating zysk...\n",
      "Generating Materials...\n",
      "Generating Labor...\n",
      "Model has been successfully generated\n",
      "GLPK Simplex Optimizer 5.0\n",
      "3 rows, 2 columns, 6 non-zeros\n",
      "Preprocessing...\n",
      "2 rows, 2 columns, 4 non-zeros\n",
      "Scaling...\n",
      " A: min|aij| =  2.000e+00  max|aij| =  4.000e+00  ratio =  2.000e+00\n",
      "Problem data seem to be well scaled\n",
      "Constructing initial basis...\n",
      "Size of triangular part is 2\n",
      "*     0: obj =  -0.000000000e+00 inf =   0.000e+00 (2)\n",
      "*     2: obj =   2.150000000e+02 inf =   0.000e+00 (0)\n",
      "OPTIMAL LP SOLUTION FOUND\n",
      "Time used:   0.0 secs\n",
      "Memory used: 0.1 Mb (102319 bytes)\n",
      "Writing basic solution to 'm1.sol'...\n"
     ]
    }
   ],
   "execution_count": 9
  },
  {
   "cell_type": "code",
   "metadata": {
    "id": "YRTkyR5HvGmK",
    "colab": {
     "base_uri": "https://localhost:8080/"
    },
    "outputId": "ca303fe4-5c2a-4575-9882-cd20cbdc3f1a",
    "ExecuteTime": {
     "end_time": "2025-10-22T21:48:32.644077Z",
     "start_time": "2025-10-22T21:48:32.624267Z"
    }
   },
   "source": [
    "# Wyświetlamy plik z wynikiem:\n",
    "!type m1.sol"
   ],
   "outputs": [
    {
     "name": "stdout",
     "output_type": "stream",
     "text": [
      "Problem:    m1\n",
      "Rows:       3\n",
      "Columns:    2\n",
      "Non-zeros:  6\n",
      "Status:     OPTIMAL\n",
      "Objective:  zysk = 215 (MAXimum)\n",
      "\n",
      "   No.   Row name   St   Activity     Lower bound   Upper bound    Marginal\n",
      "------ ------------ -- ------------- ------------- ------------- -------------\n",
      "     1 zysk         B            215                             \n",
      "     2 Materials    NU           220                         220         0.125 \n",
      "     3 Labor        NU           150                         150          1.25 \n",
      "\n",
      "   No. Column name  St   Activity     Lower bound   Upper bound    Marginal\n",
      "------ ------------ -- ------------- ------------- ------------- -------------\n",
      "     1 x1           B             20             0               \n",
      "     2 x2           B             45             0               \n",
      "\n",
      "Karush-Kuhn-Tucker optimality conditions:\n",
      "\n",
      "KKT.PE: max.abs.err = 2.84e-14 on row 2\n",
      "        max.rel.err = 6.44e-17 on row 2\n",
      "        High quality\n",
      "\n",
      "KKT.PB: max.abs.err = 0.00e+00 on row 0\n",
      "        max.rel.err = 0.00e+00 on row 0\n",
      "        High quality\n",
      "\n",
      "KKT.DE: max.abs.err = 0.00e+00 on column 0\n",
      "        max.rel.err = 0.00e+00 on column 0\n",
      "        High quality\n",
      "\n",
      "KKT.DB: max.abs.err = 0.00e+00 on row 0\n",
      "        max.rel.err = 0.00e+00 on row 0\n",
      "        High quality\n",
      "\n",
      "End of output\n"
     ]
    }
   ],
   "execution_count": 10
  },
  {
   "cell_type": "markdown",
   "metadata": {
    "id": "eGWawApDBFlG"
   },
   "source": [
    "Jak widać optymalne rozwiązanie to: `x1 = 20` oraz `x2 = 45` dające zysk `215`."
   ]
  },
  {
   "cell_type": "markdown",
   "metadata": {
    "id": "1aFVBlyGMf9k"
   },
   "source": [
    "### Cell magic\n",
    "\n",
    "Dla ułatwienia procesu uruchamiania możemy zastosować *skrót* (cell magic) `%%glpsol` zdefiniowany na początku tego notatnika."
   ]
  },
  {
   "cell_type": "code",
   "metadata": {
    "id": "t11aWD8QA0L8",
    "colab": {
     "base_uri": "https://localhost:8080/",
     "height": 1000
    },
    "outputId": "b9fec5cc-d426-4642-bd41-8c3c0b237758",
    "ExecuteTime": {
     "end_time": "2025-10-22T21:48:32.717776Z",
     "start_time": "2025-10-22T21:48:32.654273Z"
    }
   },
   "source": [
    "%%glpsol\n",
    "\n",
    "# Uwaga (!) na średniki na końcach wierszy -> ;\n",
    "\n",
    "var x1 >= 0; # Żołnierzyki\n",
    "var x2 >= 0; # Pociągi\n",
    "\n",
    "# Funkcja celu:\n",
    "maximize z: 4*x1 + 3*x2;\n",
    "\n",
    "# Ograniczenia:\n",
    "s.t. Materials : 2*x1 + 4*x2 <= 220;\n",
    "s.t. Labor     : 3*x1 + 2*x2 <= 150;\n",
    "\n",
    "solve; # Uruchom solver\n",
    "\n",
    "# Wydruki -- printf - formatowany\n",
    "printf \"Wynik: %g\\n\", z;\n",
    "# display - automatyczne formatowanie\n",
    "display z, x1, x2;\n",
    "\n",
    "end;  # <- end na końcu"
   ],
   "outputs": [
    {
     "data": {
      "text/plain": [
       "<IPython.core.display.HTML object>"
      ],
      "text/html": [
       "<pre style=\"max-width: 800px; white-space: pre-wrap; font-family: monospace;\">GLPSOL--GLPK LP/MIP Solver 5.0\n",
       "Parameter(s) specified in the command line:\n",
       " -m C:\\Users\\megaz\\AppData\\Local\\Temp\\tmpv_fp7b7k\\model.lp -o C:\\Users\\megaz\\AppData\\Local\\Temp\\tmpv_fp7b7k\\model.sol\n",
       "Reading model section from C:\\Users\\megaz\\AppData\\Local\\Temp\\tmpv_fp7b7k\\model.lp...\n",
       "21 lines were read\n",
       "Generating z...\n",
       "Generating Materials...\n",
       "Generating Labor...\n",
       "Model has been successfully generated\n",
       "GLPK Simplex Optimizer 5.0\n",
       "3 rows, 2 columns, 6 non-zeros\n",
       "Preprocessing...\n",
       "2 rows, 2 columns, 4 non-zeros\n",
       "Scaling...\n",
       " A: min|aij| =  2.000e+00  max|aij| =  4.000e+00  ratio =  2.000e+00\n",
       "Problem data seem to be well scaled\n",
       "Constructing initial basis...\n",
       "Size of triangular part is 2\n",
       "*     0: obj =  -0.000000000e+00 inf =   0.000e+00 (2)\n",
       "*     2: obj =   2.150000000e+02 inf =   0.000e+00 (0)\n",
       "<span style=\"color:green\">OPTIMAL LP SOLUTION FOUND\n",
       "</span>Time used:   0.0 secs\n",
       "Memory used: 0.1 Mb (102367 bytes)\n",
       "Wynik: 215\n",
       "<span style=\"color:#c76e00\">Display statement at line 19\n",
       "</span>z.val = 215\n",
       "x1.val = 20\n",
       "x2.val = 45\n",
       "Model has been successfully processed\n",
       "Writing basic solution to &#x27;C:\\Users\\megaz\\AppData\\Local\\Temp\\tmpv_fp7b7k\\model.sol&#x27;...\n",
       "\n",
       "--------------------------------------------------------------------------------\n",
       "Problem:    model\n",
       "Rows:       3\n",
       "Columns:    2\n",
       "Non-zeros:  6\n",
       "Status:     <span style=\"color:green\">OPTIMAL\n",
       "</span><span style=\"color:#c76e00\">Objective:  z = 215 (MAXimum)\n",
       "</span>\n",
       "   No.   Row name   St   Activity     Lower bound   Upper bound    Marginal\n",
       "------ ------------ -- ------------- ------------- ------------- -------------\n",
       "     1 z            B            215                             \n",
       "     2 Materials    NU           220                         220         0.125 \n",
       "     3 Labor        NU           150                         150          1.25 \n",
       "\n",
       "   No. Column name  St   Activity     Lower bound   Upper bound    Marginal\n",
       "------ ------------ -- ------------- ------------- ------------- -------------\n",
       "     1 x1           B             20             0               \n",
       "     2 x2           B             45             0               \n",
       "\n",
       "Karush-Kuhn-Tucker optimality conditions:\n",
       "\n",
       "KKT.PE: max.abs.err = 2.84e-14 on row 2\n",
       "        max.rel.err = 6.44e-17 on row 2\n",
       "        High quality\n",
       "\n",
       "KKT.PB: max.abs.err = 0.00e+00 on row 0\n",
       "        max.rel.err = 0.00e+00 on row 0\n",
       "        High quality\n",
       "\n",
       "KKT.DE: max.abs.err = 0.00e+00 on column 0\n",
       "        max.rel.err = 0.00e+00 on column 0\n",
       "        High quality\n",
       "\n",
       "KKT.DB: max.abs.err = 0.00e+00 on row 0\n",
       "        max.rel.err = 0.00e+00 on row 0\n",
       "        High quality\n",
       "\n",
       "End of output\n",
       "</pre>"
      ]
     },
     "metadata": {},
     "output_type": "display_data",
     "jetTransient": {
      "display_id": null
     }
    }
   ],
   "execution_count": 11
  },
  {
   "cell_type": "code",
   "source": [
    "%%glpsol\n",
    "\n",
    "# @title Zapis uogólniony\n",
    "\n",
    "set TOY;  # Zbiór zabawek\n",
    "# Parametry:\n",
    "param material { TOY };\n",
    "param labor    { TOY };\n",
    "param profit   { TOY };\n",
    "\n",
    "param avail_labor >= 0;\n",
    "param avail_material >= 0;\n",
    "\n",
    "# Zmienne (zamiast x_i)\n",
    "var Make { TOY } >= 0;\n",
    "\n",
    "# Funkcja celu\n",
    "maximize Total_profit: sum{i in TOY} profit[i] * Make[i];\n",
    "\n",
    "# Ograniczenia\n",
    "s.t. Mat_used : sum{i in TOY} material[i] * Make[i] <= avail_material;\n",
    "s.t. Lab_used : sum{i in TOY} labor[i] * Make[i] <= avail_labor;\n",
    "\n",
    "\n",
    "data;  # --- Dane instancji problemu ---\n",
    "\n",
    "set TOY := soldier train;\n",
    "\n",
    "param material :=\n",
    "  soldier  2\n",
    "  train    4 ;\n",
    "\n",
    "param labor :=\n",
    "  soldier  3\n",
    "  train    2 ;\n",
    "\n",
    "param profit :=\n",
    "  soldier  4\n",
    "  train    3 ;\n",
    "\n",
    "param avail_material := 220;\n",
    "param avail_labor := 150;\n",
    "\n",
    "end;  # <- koniec, ważne !"
   ],
   "metadata": {
    "id": "0nLpW3w5N9ak",
    "ExecuteTime": {
     "end_time": "2025-10-22T21:48:32.786200Z",
     "start_time": "2025-10-22T21:48:32.729166Z"
    }
   },
   "outputs": [
    {
     "data": {
      "text/plain": [
       "<IPython.core.display.HTML object>"
      ],
      "text/html": [
       "<pre style=\"max-width: 800px; white-space: pre-wrap; font-family: monospace;\">GLPSOL--GLPK LP/MIP Solver 5.0\n",
       "Parameter(s) specified in the command line:\n",
       " -m C:\\Users\\megaz\\AppData\\Local\\Temp\\tmp3hopv7y6\\model.lp -o C:\\Users\\megaz\\AppData\\Local\\Temp\\tmp3hopv7y6\\model.sol\n",
       "Reading model section from C:\\Users\\megaz\\AppData\\Local\\Temp\\tmp3hopv7y6\\model.lp...\n",
       "Reading data section from C:\\Users\\megaz\\AppData\\Local\\Temp\\tmp3hopv7y6\\model.lp...\n",
       "43 lines were read\n",
       "Generating Total_profit...\n",
       "Generating Mat_used...\n",
       "Generating Lab_used...\n",
       "Model has been successfully generated\n",
       "GLPK Simplex Optimizer 5.0\n",
       "3 rows, 2 columns, 6 non-zeros\n",
       "Preprocessing...\n",
       "2 rows, 2 columns, 4 non-zeros\n",
       "Scaling...\n",
       " A: min|aij| =  2.000e+00  max|aij| =  4.000e+00  ratio =  2.000e+00\n",
       "Problem data seem to be well scaled\n",
       "Constructing initial basis...\n",
       "Size of triangular part is 2\n",
       "*     0: obj =  -0.000000000e+00 inf =   0.000e+00 (2)\n",
       "*     2: obj =   2.150000000e+02 inf =   0.000e+00 (0)\n",
       "<span style=\"color:green\">OPTIMAL LP SOLUTION FOUND\n",
       "</span>Time used:   0.0 secs\n",
       "Memory used: 0.1 Mb (126463 bytes)\n",
       "Writing basic solution to &#x27;C:\\Users\\megaz\\AppData\\Local\\Temp\\tmp3hopv7y6\\model.sol&#x27;...\n",
       "\n",
       "--------------------------------------------------------------------------------\n",
       "Problem:    model\n",
       "Rows:       3\n",
       "Columns:    2\n",
       "Non-zeros:  6\n",
       "Status:     <span style=\"color:green\">OPTIMAL\n",
       "</span><span style=\"color:#c76e00\">Objective:  Total_profit = 215 (MAXimum)\n",
       "</span>\n",
       "   No.   Row name   St   Activity     Lower bound   Upper bound    Marginal\n",
       "------ ------------ -- ------------- ------------- ------------- -------------\n",
       "     1 Total_profit B            215                             \n",
       "     2 Mat_used     NU           220                         220         0.125 \n",
       "     3 Lab_used     NU           150                         150          1.25 \n",
       "\n",
       "   No. Column name  St   Activity     Lower bound   Upper bound    Marginal\n",
       "------ ------------ -- ------------- ------------- ------------- -------------\n",
       "     1 Make[soldier]\n",
       "                    B             20             0               \n",
       "     2 Make[train]  B             45             0               \n",
       "\n",
       "Karush-Kuhn-Tucker optimality conditions:\n",
       "\n",
       "KKT.PE: max.abs.err = 2.84e-14 on row 2\n",
       "        max.rel.err = 6.44e-17 on row 2\n",
       "        High quality\n",
       "\n",
       "KKT.PB: max.abs.err = 0.00e+00 on row 0\n",
       "        max.rel.err = 0.00e+00 on row 0\n",
       "        High quality\n",
       "\n",
       "KKT.DE: max.abs.err = 0.00e+00 on column 0\n",
       "        max.rel.err = 0.00e+00 on column 0\n",
       "        High quality\n",
       "\n",
       "KKT.DB: max.abs.err = 0.00e+00 on row 0\n",
       "        max.rel.err = 0.00e+00 on row 0\n",
       "        High quality\n",
       "\n",
       "End of output\n",
       "</pre>"
      ]
     },
     "metadata": {},
     "output_type": "display_data",
     "jetTransient": {
      "display_id": null
     }
    }
   ],
   "execution_count": 12
  },
  {
   "cell_type": "markdown",
   "metadata": {
    "id": "-3qbYzYZczIr"
   },
   "source": [
    "# Elementy języka GNU MathProg"
   ]
  },
  {
   "cell_type": "markdown",
   "metadata": {
    "id": "9PL0tbN1c3kx"
   },
   "source": [
    "### Parametry\n",
    "\n",
    "* służą do określania współczynników oraz innych stałych na potrzeby modelu\n",
    "* odpowiadają stałym oraz tablicom z języków takich jak C czy Java\n",
    "* wartości parametrów nie ulegają zmianom\n"
   ]
  },
  {
   "cell_type": "code",
   "metadata": {
    "id": "iU_eBM42bsDS",
    "ExecuteTime": {
     "end_time": "2025-10-22T21:48:32.847649Z",
     "start_time": "2025-10-22T21:48:32.796492Z"
    }
   },
   "source": [
    "%%glpsol\n",
    "\n",
    " param N := 42;\n",
    " param PI := 3.141592653589793;\n",
    " param z := 2 ^ 10;  # 1024\n",
    " param temp >= -80.5 <= 55.5;  # Deklaracja param. - bez podania wart.\n",
    " param wynik, integer > 0;\n",
    "\n",
    " display N, PI, z, temp, wynik; # Wydrukuj wart.\n",
    "\n",
    " data; # sekcja z danymi lub osobny plik\n",
    "\n",
    " param temp := -22;  # Konkretna wartość dla temp\n",
    " param wynik := 123;\n",
    "\n",
    " end; # Koniec pliku z modelem"
   ],
   "outputs": [
    {
     "data": {
      "text/plain": [
       "<IPython.core.display.HTML object>"
      ],
      "text/html": [
       "<pre style=\"max-width: 800px; white-space: pre-wrap; font-family: monospace;\">GLPSOL--GLPK LP/MIP Solver 5.0\n",
       "Parameter(s) specified in the command line:\n",
       " -m C:\\Users\\megaz\\AppData\\Local\\Temp\\tmpcll650lj\\model.lp -o C:\\Users\\megaz\\AppData\\Local\\Temp\\tmpcll650lj\\model.sol\n",
       "Reading model section from C:\\Users\\megaz\\AppData\\Local\\Temp\\tmpcll650lj\\model.lp...\n",
       "Reading data section from C:\\Users\\megaz\\AppData\\Local\\Temp\\tmpcll650lj\\model.lp...\n",
       "15 lines were read\n",
       "<span style=\"color:#c76e00\">Display statement at line 8\n",
       "</span>N = 42\n",
       "PI = 3.14159265358979\n",
       "z = 1024\n",
       "temp = -22\n",
       "wynik = 123\n",
       "Model has been successfully generated\n",
       "GLPK Simplex Optimizer 5.0\n",
       "0 rows, 0 columns, 0 non-zeros\n",
       "~     0: obj =   0.000000000e+00  infeas =  0.000e+00<span style=\"color:green\">\n",
       "OPTIMAL SOLUTION FOUND\n",
       "</span>Time used:   0.0 secs\n",
       "Memory used: 0.0 Mb (49743 bytes)\n",
       "Writing basic solution to &#x27;C:\\Users\\megaz\\AppData\\Local\\Temp\\tmpcll650lj\\model.sol&#x27;...\n",
       "\n",
       "--------------------------------------------------------------------------------\n",
       "Problem:    model\n",
       "Rows:       0\n",
       "Columns:    0\n",
       "Non-zeros:  0\n",
       "Status:     <span style=\"color:green\">OPTIMAL\n",
       "</span><span style=\"color:#c76e00\">Objective:  0 (MINimum)\n",
       "</span>\n",
       "   No.   Row name   St   Activity     Lower bound   Upper bound    Marginal\n",
       "------ ------------ -- ------------- ------------- ------------- -------------\n",
       "\n",
       "   No. Column name  St   Activity     Lower bound   Upper bound    Marginal\n",
       "------ ------------ -- ------------- ------------- ------------- -------------\n",
       "\n",
       "Karush-Kuhn-Tucker optimality conditions:\n",
       "\n",
       "KKT.PE: max.abs.err = 0.00e+00 on row 0\n",
       "        max.rel.err = 0.00e+00 on row 0\n",
       "        High quality\n",
       "\n",
       "KKT.PB: max.abs.err = 0.00e+00 on row 0\n",
       "        max.rel.err = 0.00e+00 on row 0\n",
       "        High quality\n",
       "\n",
       "KKT.DE: max.abs.err = 0.00e+00 on column 0\n",
       "        max.rel.err = 0.00e+00 on column 0\n",
       "        High quality\n",
       "\n",
       "KKT.DB: max.abs.err = 0.00e+00 on row 0\n",
       "        max.rel.err = 0.00e+00 on row 0\n",
       "        High quality\n",
       "\n",
       "End of output\n",
       "</pre>"
      ]
     },
     "metadata": {},
     "output_type": "display_data",
     "jetTransient": {
      "display_id": null
     }
    }
   ],
   "execution_count": 13
  },
  {
   "cell_type": "code",
   "metadata": {
    "id": "y3KBhnP2dTsd",
    "ExecuteTime": {
     "end_time": "2025-10-22T21:48:32.895931Z",
     "start_time": "2025-10-22T21:48:32.856435Z"
    }
   },
   "source": [
    "%%glpsol\n",
    "\n",
    "# Model:\n",
    "\n",
    "# Tablica 3 wartości indeksowana 0..2:\n",
    "param zysk{0..2};  # domyślnie rzeczywiste\n",
    "\n",
    "# Macierz 2 x 3 wart. nieujemnych całk.\n",
    "# Indeksowana 1..2, 1..3\n",
    "param punkty{1..2, 1..3} default 7, integer, >= 0;\n",
    "\n",
    "display zysk, punkty[2,3];\n",
    "printf \"punkty[2,2] = %g\\n\", punkty[2,2];\n",
    "\n",
    "# --- Sekcja danych od słowa 'data;' ---\n",
    "data;\n",
    "\n",
    "# Uwaga -- najpierw indeks, potem wartość\n",
    "param zysk :=\n",
    "0  100.50  # zysk[0]\n",
    "1 2120.0   # zysk[1]\n",
    "2 3123.0;  # zysk[2]\n",
    "\n",
    "param punkty :\n",
    "   1  2  3 :=  # indeksy kolumn\n",
    "1  5 13 30     # pierwszy wiersz\n",
    "2 20  . 15 ;   # . oznacza wart. domyślną\n",
    "\n",
    "end;"
   ],
   "outputs": [
    {
     "data": {
      "text/plain": [
       "<IPython.core.display.HTML object>"
      ],
      "text/html": [
       "<pre style=\"max-width: 800px; white-space: pre-wrap; font-family: monospace;\">GLPSOL--GLPK LP/MIP Solver 5.0\n",
       "Parameter(s) specified in the command line:\n",
       " -m C:\\Users\\megaz\\AppData\\Local\\Temp\\tmp4s4pgs3w\\model.lp -o C:\\Users\\megaz\\AppData\\Local\\Temp\\tmp4s4pgs3w\\model.sol\n",
       "Reading model section from C:\\Users\\megaz\\AppData\\Local\\Temp\\tmp4s4pgs3w\\model.lp...\n",
       "Reading data section from C:\\Users\\megaz\\AppData\\Local\\Temp\\tmp4s4pgs3w\\model.lp...\n",
       "28 lines were read\n",
       "<span style=\"color:#c76e00\">Display statement at line 11\n",
       "</span>zysk[0] = 100.5\n",
       "zysk[1] = 2120\n",
       "zysk[2] = 3123\n",
       "punkty[2,3] = 15\n",
       "punkty[2,2] = 7\n",
       "Model has been successfully generated\n",
       "GLPK Simplex Optimizer 5.0\n",
       "0 rows, 0 columns, 0 non-zeros\n",
       "~     0: obj =   0.000000000e+00  infeas =  0.000e+00<span style=\"color:green\">\n",
       "OPTIMAL SOLUTION FOUND\n",
       "</span>Time used:   0.0 secs\n",
       "Memory used: 0.1 Mb (73839 bytes)\n",
       "Writing basic solution to &#x27;C:\\Users\\megaz\\AppData\\Local\\Temp\\tmp4s4pgs3w\\model.sol&#x27;...\n",
       "\n",
       "--------------------------------------------------------------------------------\n",
       "Problem:    model\n",
       "Rows:       0\n",
       "Columns:    0\n",
       "Non-zeros:  0\n",
       "Status:     <span style=\"color:green\">OPTIMAL\n",
       "</span><span style=\"color:#c76e00\">Objective:  0 (MINimum)\n",
       "</span>\n",
       "   No.   Row name   St   Activity     Lower bound   Upper bound    Marginal\n",
       "------ ------------ -- ------------- ------------- ------------- -------------\n",
       "\n",
       "   No. Column name  St   Activity     Lower bound   Upper bound    Marginal\n",
       "------ ------------ -- ------------- ------------- ------------- -------------\n",
       "\n",
       "Karush-Kuhn-Tucker optimality conditions:\n",
       "\n",
       "KKT.PE: max.abs.err = 0.00e+00 on row 0\n",
       "        max.rel.err = 0.00e+00 on row 0\n",
       "        High quality\n",
       "\n",
       "KKT.PB: max.abs.err = 0.00e+00 on row 0\n",
       "        max.rel.err = 0.00e+00 on row 0\n",
       "        High quality\n",
       "\n",
       "KKT.DE: max.abs.err = 0.00e+00 on column 0\n",
       "        max.rel.err = 0.00e+00 on column 0\n",
       "        High quality\n",
       "\n",
       "KKT.DB: max.abs.err = 0.00e+00 on row 0\n",
       "        max.rel.err = 0.00e+00 on row 0\n",
       "        High quality\n",
       "\n",
       "End of output\n",
       "</pre>"
      ]
     },
     "metadata": {},
     "output_type": "display_data",
     "jetTransient": {
      "display_id": null
     }
    }
   ],
   "execution_count": 14
  },
  {
   "cell_type": "code",
   "metadata": {
    "id": "3dNdXm8Hdwt-",
    "ExecuteTime": {
     "end_time": "2025-10-22T21:48:32.941949Z",
     "start_time": "2025-10-22T21:48:32.903720Z"
    }
   },
   "source": [
    "%%glpsol\n",
    "\n",
    "param N := 4;\n",
    "\n",
    "# Parametr zdefiniowany rekurencyjnie -- liczba kombinacji k-elem.\n",
    "# ze zbioru N elementowego\n",
    "\n",
    "param comb{n in 0..N, k in 0..n} :=\n",
    "    if k == 0 or k == n then\n",
    "        1\n",
    "    else\n",
    "        comb[n-1, k-1] + comb[n-1, k];\n",
    "\n",
    "\n",
    "display comb;\n",
    "\n",
    "printf \"Jest dokładnie %g sposobów aby wybrać 2 elementy spośród 4\\n\", comb[4,2];\n",
    "\n",
    "end;"
   ],
   "outputs": [
    {
     "data": {
      "text/plain": [
       "<IPython.core.display.HTML object>"
      ],
      "text/html": [
       "<pre style=\"max-width: 800px; white-space: pre-wrap; font-family: monospace;\">GLPSOL--GLPK LP/MIP Solver 5.0\n",
       "Parameter(s) specified in the command line:\n",
       " -m C:\\Users\\megaz\\AppData\\Local\\Temp\\tmpycxquwqz\\model.lp -o C:\\Users\\megaz\\AppData\\Local\\Temp\\tmpycxquwqz\\model.sol\n",
       "Reading model section from C:\\Users\\megaz\\AppData\\Local\\Temp\\tmpycxquwqz\\model.lp...\n",
       "18 lines were read\n",
       "<span style=\"color:#c76e00\">Display statement at line 14\n",
       "</span>comb[0,0] = 1\n",
       "comb[1,0] = 1\n",
       "comb[1,1] = 1\n",
       "comb[2,0] = 1\n",
       "comb[2,1] = 2\n",
       "comb[2,2] = 1\n",
       "comb[3,0] = 1\n",
       "comb[3,1] = 3\n",
       "comb[3,2] = 3\n",
       "comb[3,3] = 1\n",
       "comb[4,0] = 1\n",
       "comb[4,1] = 4\n",
       "comb[4,2] = 6\n",
       "comb[4,3] = 4\n",
       "comb[4,4] = 1\n",
       "Jest dokÅ‚adnie 6 sposobÃ³w aby wybraÄ‡Â 2 elementy spoÅ›rÃ³d 4\n",
       "Model has been successfully generated\n",
       "GLPK Simplex Optimizer 5.0\n",
       "0 rows, 0 columns, 0 non-zeros\n",
       "~     0: obj =   0.000000000e+00  infeas =  0.000e+00<span style=\"color:green\">\n",
       "OPTIMAL SOLUTION FOUND\n",
       "</span>Time used:   0.0 secs\n",
       "Memory used: 0.1 Mb (73839 bytes)\n",
       "Writing basic solution to &#x27;C:\\Users\\megaz\\AppData\\Local\\Temp\\tmpycxquwqz\\model.sol&#x27;...\n",
       "\n",
       "--------------------------------------------------------------------------------\n",
       "Problem:    model\n",
       "Rows:       0\n",
       "Columns:    0\n",
       "Non-zeros:  0\n",
       "Status:     <span style=\"color:green\">OPTIMAL\n",
       "</span><span style=\"color:#c76e00\">Objective:  0 (MINimum)\n",
       "</span>\n",
       "   No.   Row name   St   Activity     Lower bound   Upper bound    Marginal\n",
       "------ ------------ -- ------------- ------------- ------------- -------------\n",
       "\n",
       "   No. Column name  St   Activity     Lower bound   Upper bound    Marginal\n",
       "------ ------------ -- ------------- ------------- ------------- -------------\n",
       "\n",
       "Karush-Kuhn-Tucker optimality conditions:\n",
       "\n",
       "KKT.PE: max.abs.err = 0.00e+00 on row 0\n",
       "        max.rel.err = 0.00e+00 on row 0\n",
       "        High quality\n",
       "\n",
       "KKT.PB: max.abs.err = 0.00e+00 on row 0\n",
       "        max.rel.err = 0.00e+00 on row 0\n",
       "        High quality\n",
       "\n",
       "KKT.DE: max.abs.err = 0.00e+00 on column 0\n",
       "        max.rel.err = 0.00e+00 on column 0\n",
       "        High quality\n",
       "\n",
       "KKT.DB: max.abs.err = 0.00e+00 on row 0\n",
       "        max.rel.err = 0.00e+00 on row 0\n",
       "        High quality\n",
       "\n",
       "End of output\n",
       "</pre>"
      ]
     },
     "metadata": {},
     "output_type": "display_data",
     "jetTransient": {
      "display_id": null
     }
    }
   ],
   "execution_count": 15
  },
  {
   "cell_type": "markdown",
   "metadata": {
    "id": "Bh78zgqaer8n"
   },
   "source": [
    "### Zbiory\n",
    "\n",
    "* Zbiór zawiera zero lub więcej elementów, z których każdy\n",
    "  jest uporządkowaną listą (krotką) złożoną z jednego lub więcej komponentów\n",
    "  * Wszystkie elementy zbiory są różne\n",
    "  * Wszystkie muszą mieć tą samą liczbę komponentów, np. są parami liczb\n",
    "    -- liczba komponentów jest wymiarem zbioru\n",
    "* Rozmiar zbioru można otrzymać za pomocą funkcji `card`\n"
   ]
  },
  {
   "cell_type": "code",
   "metadata": {
    "id": "U74ICzXVeqaQ",
    "ExecuteTime": {
     "end_time": "2025-10-22T21:48:33.004430Z",
     "start_time": "2025-10-22T21:48:32.951300Z"
    }
   },
   "source": [
    "%%glpsol\n",
    "\n",
    "set X := { 1, 2, 3 };  # pełna definicja zbioru\n",
    "set Y;  # tylko deklaracja\n",
    "set Coords := X cross Y;  # iloczyn kartezjański\n",
    "set Parzyste := 2..10 by 2;\n",
    "set Primes := { n in 2..1000: !(exists{ d in 2..n: d*d <= n } n mod d == 0) };\n",
    "set Nodes;\n",
    "set Arcs within (Nodes cross Nodes);\n",
    "\n",
    "display X, Y, Coords;\n",
    "display Parzyste;\n",
    "printf 'L.pierwszych w zakresie 2..1000 jest: %g\\n', card(Primes);\n",
    "\n",
    "data;  # Sekcja danych\n",
    "\n",
    "set Y := a b;  # Stałe symboliczne\n",
    "set Nodes := A B C D;\n",
    "set Arcs := (A,B) (B,C) (C,D) (D,B);\n",
    "\n",
    "end;"
   ],
   "outputs": [
    {
     "data": {
      "text/plain": [
       "<IPython.core.display.HTML object>"
      ],
      "text/html": [
       "<pre style=\"max-width: 800px; white-space: pre-wrap; font-family: monospace;\">GLPSOL--GLPK LP/MIP Solver 5.0\n",
       "Parameter(s) specified in the command line:\n",
       " -m C:\\Users\\megaz\\AppData\\Local\\Temp\\tmp0c05l171\\model.lp -o C:\\Users\\megaz\\AppData\\Local\\Temp\\tmp0c05l171\\model.sol\n",
       "Reading model section from C:\\Users\\megaz\\AppData\\Local\\Temp\\tmp0c05l171\\model.lp...\n",
       "Reading data section from C:\\Users\\megaz\\AppData\\Local\\Temp\\tmp0c05l171\\model.lp...\n",
       "20 lines were read\n",
       "<span style=\"color:#c76e00\">Display statement at line 10\n",
       "</span>X:\n",
       "   1\n",
       "   2\n",
       "   3\n",
       "Y:\n",
       "   a\n",
       "   b\n",
       "Coords:\n",
       "   (1,a)\n",
       "   (1,b)\n",
       "   (2,a)\n",
       "   (2,b)\n",
       "   (3,a)\n",
       "   (3,b)\n",
       "<span style=\"color:#c76e00\">Display statement at line 11\n",
       "</span>Parzyste:\n",
       "   2\n",
       "   4\n",
       "   6\n",
       "   8\n",
       "   10\n",
       "L.pierwszych w zakresie 2..1000 jest: 168\n",
       "Model has been successfully generated\n",
       "GLPK Simplex Optimizer 5.0\n",
       "0 rows, 0 columns, 0 non-zeros\n",
       "~     0: obj =   0.000000000e+00  infeas =  0.000e+00<span style=\"color:green\">\n",
       "OPTIMAL SOLUTION FOUND\n",
       "</span>Time used:   0.0 secs\n",
       "Memory used: 0.1 Mb (105967 bytes)\n",
       "Writing basic solution to &#x27;C:\\Users\\megaz\\AppData\\Local\\Temp\\tmp0c05l171\\model.sol&#x27;...\n",
       "\n",
       "--------------------------------------------------------------------------------\n",
       "Problem:    model\n",
       "Rows:       0\n",
       "Columns:    0\n",
       "Non-zeros:  0\n",
       "Status:     <span style=\"color:green\">OPTIMAL\n",
       "</span><span style=\"color:#c76e00\">Objective:  0 (MINimum)\n",
       "</span>\n",
       "   No.   Row name   St   Activity     Lower bound   Upper bound    Marginal\n",
       "------ ------------ -- ------------- ------------- ------------- -------------\n",
       "\n",
       "   No. Column name  St   Activity     Lower bound   Upper bound    Marginal\n",
       "------ ------------ -- ------------- ------------- ------------- -------------\n",
       "\n",
       "Karush-Kuhn-Tucker optimality conditions:\n",
       "\n",
       "KKT.PE: max.abs.err = 0.00e+00 on row 0\n",
       "        max.rel.err = 0.00e+00 on row 0\n",
       "        High quality\n",
       "\n",
       "KKT.PB: max.abs.err = 0.00e+00 on row 0\n",
       "        max.rel.err = 0.00e+00 on row 0\n",
       "        High quality\n",
       "\n",
       "KKT.DE: max.abs.err = 0.00e+00 on column 0\n",
       "        max.rel.err = 0.00e+00 on column 0\n",
       "        High quality\n",
       "\n",
       "KKT.DB: max.abs.err = 0.00e+00 on row 0\n",
       "        max.rel.err = 0.00e+00 on row 0\n",
       "        High quality\n",
       "\n",
       "End of output\n",
       "</pre>"
      ]
     },
     "metadata": {},
     "output_type": "display_data",
     "jetTransient": {
      "display_id": null
     }
    }
   ],
   "execution_count": 16
  },
  {
   "cell_type": "code",
   "metadata": {
    "id": "zj2PsiCqfy9x",
    "ExecuteTime": {
     "end_time": "2025-10-22T21:48:33.062678Z",
     "start_time": "2025-10-22T21:48:33.023575Z"
    }
   },
   "source": [
    "%%glpsol\n",
    "\n",
    "# Operacje na zbiorach\n",
    "\n",
    "set A := {1, 2, 3};\n",
    "set B := {3, 4, 5};\n",
    "\n",
    "display A union B;    # {1, 2, 3, 4, 5}`\n",
    "display A diff B;     # {1, 2}\n",
    "display A symdiff B;  # {1, 2, 4, 5}\n",
    "display A inter B;    # {3}\n",
    "display A cross B;    # {(1,3),(1,4),(1,5),(2,3),(2,4),(2,5),(3,3),(3,4),(3,5)}\n",
    "\n",
    "end;"
   ],
   "outputs": [
    {
     "data": {
      "text/plain": [
       "<IPython.core.display.HTML object>"
      ],
      "text/html": [
       "<pre style=\"max-width: 800px; white-space: pre-wrap; font-family: monospace;\">GLPSOL--GLPK LP/MIP Solver 5.0\n",
       "Parameter(s) specified in the command line:\n",
       " -m C:\\Users\\megaz\\AppData\\Local\\Temp\\tmp91_9a22q\\model.lp -o C:\\Users\\megaz\\AppData\\Local\\Temp\\tmp91_9a22q\\model.sol\n",
       "Reading model section from C:\\Users\\megaz\\AppData\\Local\\Temp\\tmp91_9a22q\\model.lp...\n",
       "13 lines were read\n",
       "<span style=\"color:#c76e00\">Display statement at line 7\n",
       "</span>   1\n",
       "   2\n",
       "   3\n",
       "   4\n",
       "   5\n",
       "<span style=\"color:#c76e00\">Display statement at line 8\n",
       "</span>   1\n",
       "   2\n",
       "<span style=\"color:#c76e00\">Display statement at line 9\n",
       "</span>   1\n",
       "   2\n",
       "   4\n",
       "   5\n",
       "<span style=\"color:#c76e00\">Display statement at line 10\n",
       "</span>   3\n",
       "<span style=\"color:#c76e00\">Display statement at line 11\n",
       "</span>   (1,3)\n",
       "   (1,4)\n",
       "   (1,5)\n",
       "   (2,3)\n",
       "   (2,4)\n",
       "   (2,5)\n",
       "   (3,3)\n",
       "   (3,4)\n",
       "   (3,5)\n",
       "Model has been successfully generated\n",
       "GLPK Simplex Optimizer 5.0\n",
       "0 rows, 0 columns, 0 non-zeros\n",
       "~     0: obj =   0.000000000e+00  infeas =  0.000e+00<span style=\"color:green\">\n",
       "OPTIMAL SOLUTION FOUND\n",
       "</span>Time used:   0.0 secs\n",
       "Memory used: 0.1 Mb (65807 bytes)\n",
       "Writing basic solution to &#x27;C:\\Users\\megaz\\AppData\\Local\\Temp\\tmp91_9a22q\\model.sol&#x27;...\n",
       "\n",
       "--------------------------------------------------------------------------------\n",
       "Problem:    model\n",
       "Rows:       0\n",
       "Columns:    0\n",
       "Non-zeros:  0\n",
       "Status:     <span style=\"color:green\">OPTIMAL\n",
       "</span><span style=\"color:#c76e00\">Objective:  0 (MINimum)\n",
       "</span>\n",
       "   No.   Row name   St   Activity     Lower bound   Upper bound    Marginal\n",
       "------ ------------ -- ------------- ------------- ------------- -------------\n",
       "\n",
       "   No. Column name  St   Activity     Lower bound   Upper bound    Marginal\n",
       "------ ------------ -- ------------- ------------- ------------- -------------\n",
       "\n",
       "Karush-Kuhn-Tucker optimality conditions:\n",
       "\n",
       "KKT.PE: max.abs.err = 0.00e+00 on row 0\n",
       "        max.rel.err = 0.00e+00 on row 0\n",
       "        High quality\n",
       "\n",
       "KKT.PB: max.abs.err = 0.00e+00 on row 0\n",
       "        max.rel.err = 0.00e+00 on row 0\n",
       "        High quality\n",
       "\n",
       "KKT.DE: max.abs.err = 0.00e+00 on column 0\n",
       "        max.rel.err = 0.00e+00 on column 0\n",
       "        High quality\n",
       "\n",
       "KKT.DB: max.abs.err = 0.00e+00 on row 0\n",
       "        max.rel.err = 0.00e+00 on row 0\n",
       "        High quality\n",
       "\n",
       "End of output\n",
       "</pre>"
      ]
     },
     "metadata": {},
     "output_type": "display_data",
     "jetTransient": {
      "display_id": null
     }
    }
   ],
   "execution_count": 17
  },
  {
   "cell_type": "code",
   "metadata": {
    "id": "tNhI3NIxgfhS",
    "ExecuteTime": {
     "end_time": "2025-10-22T21:48:33.121180Z",
     "start_time": "2025-10-22T21:48:33.082816Z"
    }
   },
   "source": [
    "%%glpsol\n",
    "\n",
    "# Zbiory umożliwiają m.in. wygodne indeksowanie parametrów i~zmiennych.\n",
    "\n",
    "set Foods;\n",
    "set Vitamins;\n",
    "param NutritionalValue{ Foods, Vitamins };\n",
    "\n",
    "data;  # Sekcja danych\n",
    "\n",
    "set Foods := Apple Egg;\n",
    "set Vitamins := A C D;\n",
    "\n",
    "param NutritionalValue :\n",
    "      A      C     D  :=\n",
    "Egg   0.16   0.0   0.002\n",
    "Apple 0.003  4.6   0.0 ;\n",
    "\n",
    "end;"
   ],
   "outputs": [
    {
     "data": {
      "text/plain": [
       "<IPython.core.display.HTML object>"
      ],
      "text/html": [
       "<pre style=\"max-width: 800px; white-space: pre-wrap; font-family: monospace;\">GLPSOL--GLPK LP/MIP Solver 5.0\n",
       "Parameter(s) specified in the command line:\n",
       " -m C:\\Users\\megaz\\AppData\\Local\\Temp\\tmpac0ub4nc\\model.lp -o C:\\Users\\megaz\\AppData\\Local\\Temp\\tmpac0ub4nc\\model.sol\n",
       "Reading model section from C:\\Users\\megaz\\AppData\\Local\\Temp\\tmpac0ub4nc\\model.lp...\n",
       "Reading data section from C:\\Users\\megaz\\AppData\\Local\\Temp\\tmpac0ub4nc\\model.lp...\n",
       "18 lines were read\n",
       "Model has been successfully generated\n",
       "GLPK Simplex Optimizer 5.0\n",
       "0 rows, 0 columns, 0 non-zeros\n",
       "~     0: obj =   0.000000000e+00  infeas =  0.000e+00<span style=\"color:green\">\n",
       "OPTIMAL SOLUTION FOUND\n",
       "</span>Time used:   0.0 secs\n",
       "Memory used: 0.1 Mb (73839 bytes)\n",
       "Writing basic solution to &#x27;C:\\Users\\megaz\\AppData\\Local\\Temp\\tmpac0ub4nc\\model.sol&#x27;...\n",
       "\n",
       "--------------------------------------------------------------------------------\n",
       "Problem:    model\n",
       "Rows:       0\n",
       "Columns:    0\n",
       "Non-zeros:  0\n",
       "Status:     <span style=\"color:green\">OPTIMAL\n",
       "</span><span style=\"color:#c76e00\">Objective:  0 (MINimum)\n",
       "</span>\n",
       "   No.   Row name   St   Activity     Lower bound   Upper bound    Marginal\n",
       "------ ------------ -- ------------- ------------- ------------- -------------\n",
       "\n",
       "   No. Column name  St   Activity     Lower bound   Upper bound    Marginal\n",
       "------ ------------ -- ------------- ------------- ------------- -------------\n",
       "\n",
       "Karush-Kuhn-Tucker optimality conditions:\n",
       "\n",
       "KKT.PE: max.abs.err = 0.00e+00 on row 0\n",
       "        max.rel.err = 0.00e+00 on row 0\n",
       "        High quality\n",
       "\n",
       "KKT.PB: max.abs.err = 0.00e+00 on row 0\n",
       "        max.rel.err = 0.00e+00 on row 0\n",
       "        High quality\n",
       "\n",
       "KKT.DE: max.abs.err = 0.00e+00 on column 0\n",
       "        max.rel.err = 0.00e+00 on column 0\n",
       "        High quality\n",
       "\n",
       "KKT.DB: max.abs.err = 0.00e+00 on row 0\n",
       "        max.rel.err = 0.00e+00 on row 0\n",
       "        High quality\n",
       "\n",
       "End of output\n",
       "</pre>"
      ]
     },
     "metadata": {},
     "output_type": "display_data",
     "jetTransient": {
      "display_id": null
     }
    }
   ],
   "execution_count": 18
  },
  {
   "cell_type": "markdown",
   "metadata": {
    "id": "DYZ14oVF93iY"
   },
   "source": [
    "# Przykład 2. Problem diety\n",
    "\n",
    "* Problem diety polega na znalezieniu diety o minimalnym koszcie, tak aby\n",
    "  wybrane produkty żywnościowe pokrywały niezbędne zapotrzebowanie na\n",
    "  wartości odżywcze.\n",
    "* Problem ,,przeciwny'' do planowania produkcji -- zamiast maksymalizacji\n",
    "  zysku, minimalizacja kosztów\n",
    "\n",
    "* Dane: ceny produktów, zawartość witamin w produktach -- procent\n",
    "  zapotrzebowania dziennego na opakowanie\n",
    "* Zmienne: ile opakowań poszczególnych produktów należy kupić, tj.\n",
    "  $x_{\\rm BEEF}, x_{\\rm CHK}, \\ldots$\n",
    "* Cel: minimalizacja kosztu zakupu produktów\n",
    "* Ograniczenia: pokrycie minimalnego zapotrzebowania na wartości odżywcze\n",
    "  (witaminy) w kontekście tygodnia, czyli $\\ge 7 \\cdot 100\\%$ dawka każdej witaminy\n"
   ]
  },
  {
   "cell_type": "code",
   "metadata": {
    "id": "t_bDN_P--b08",
    "ExecuteTime": {
     "end_time": "2025-10-22T21:48:33.135218Z",
     "start_time": "2025-10-22T21:48:33.130150Z"
    }
   },
   "source": [
    "%%writefile diet.dat\n",
    "\n",
    "# Dane umieszczamy w osobnym pliku:\n",
    "\n",
    "# Wart. odżywcze\n",
    "set NUTR := A B1 B2 C ;\n",
    "\n",
    "# Rodzaje produktów\n",
    "set FOOD := BEEF CHK TUR ;\n",
    "\n",
    "# Koszt\n",
    "param:     cost  :=\n",
    "    BEEF   3.19\n",
    "    CHK    2.59\n",
    "    TUR    2.49  ;\n",
    "\n",
    "# Zapotrzebowanie min i maks na wart. odżywcze\n",
    "param:  n_min   n_max :=\n",
    "    A       700     10000\n",
    "    C       700     10000\n",
    "    B1      700     10000\n",
    "    B2      700     10000 ;\n",
    "\n",
    "# Ile jest witamin w każdym produkcie\n",
    "# (tr) oznacza transpozycję tablicy amt\n",
    "param amt (tr):\n",
    "            A   C   B1   B2  :=\n",
    "    BEEF   60  20   10   15\n",
    "    CHK     8   0   20   20\n",
    "    TUR    60  20   15   10 ;\n"
   ],
   "outputs": [
    {
     "name": "stdout",
     "output_type": "stream",
     "text": [
      "Writing diet.dat\n"
     ]
    }
   ],
   "execution_count": 19
  },
  {
   "cell_type": "code",
   "metadata": {
    "id": "axlJI2NI-KSX",
    "ExecuteTime": {
     "end_time": "2025-10-22T21:48:33.225579Z",
     "start_time": "2025-10-22T21:48:33.148846Z"
    }
   },
   "source": [
    "%%glpsol -d diet.dat\n",
    "\n",
    "set NUTR;  # Wart. odżywcze\n",
    "set FOOD;  # Produkty\n",
    "param cost {FOOD} > 0;\n",
    "\n",
    "# Zapotrzebowanie na składniki odżywcze:\n",
    "param n_min {NUTR} >= 0;\n",
    "param n_max {i in NUTR} >= n_min[i];\n",
    "\n",
    "# Ilość składników w każdym produkcie:\n",
    "param amt {NUTR,FOOD} >= 0;\n",
    "\n",
    "# Ile kupić każdego produktu:\n",
    "var Buy {FOOD} >= 0, integer;\n",
    "\n",
    "# Minimalizacja kosztów:\n",
    "minimize Total_Cost: sum {j in FOOD} cost[j] * Buy[j];\n",
    "\n",
    "# Przy spełnieniu wymagań na wart. odżywcze:\n",
    "subject to Diet {vit in NUTR}:\n",
    "    n_min[vit] <= sum {j in FOOD} amt[vit,j] * Buy[j] <= n_max[vit];\n",
    "\n",
    "solve;\n",
    "\n",
    "display Buy;\n",
    "\n",
    "end;"
   ],
   "outputs": [
    {
     "data": {
      "text/plain": [
       "<IPython.core.display.HTML object>"
      ],
      "text/html": [
       "<pre style=\"max-width: 800px; white-space: pre-wrap; font-family: monospace;\">GLPSOL--GLPK LP/MIP Solver 5.0\n",
       "Parameter(s) specified in the command line:\n",
       " -d diet.dat -m C:\\Users\\megaz\\AppData\\Local\\Temp\\tmpwonkruyr\\model.lp -o\n",
       " C:\\Users\\megaz\\AppData\\Local\\Temp\\tmpwonkruyr\\model.sol\n",
       "Reading model section from C:\\Users\\megaz\\AppData\\Local\\Temp\\tmpwonkruyr\\model.lp...\n",
       "27 lines were read\n",
       "Reading data section from diet.dat...\n",
       "diet.dat:30: warning: unexpected end of file; missing end statement inserted\n",
       "30 lines were read\n",
       "Generating Total_Cost...\n",
       "Generating Diet...\n",
       "Model has been successfully generated\n",
       "GLPK Integer Optimizer 5.0\n",
       "5 rows, 3 columns, 14 non-zeros\n",
       "3 integer variables, none of which are binary\n",
       "Preprocessing...\n",
       "4 rows, 3 columns, 11 non-zeros\n",
       "3 integer variables, none of which are binary\n",
       "Scaling...\n",
       " A: min|aij| =  8.000e+00  max|aij| =  6.000e+01  ratio =  7.500e+00\n",
       "GM: min|aij| =  5.081e-01  max|aij| =  1.968e+00  ratio =  3.873e+00\n",
       "EQ: min|aij| =  2.582e-01  max|aij| =  1.000e+00  ratio =  3.873e+00\n",
       "2N: min|aij| =  1.562e-01  max|aij| =  9.375e-01  ratio =  6.000e+00\n",
       "Constructing initial basis...\n",
       "Size of triangular part is 4\n",
       "Solving LP relaxation...\n",
       "GLPK Simplex Optimizer 5.0\n",
       "4 rows, 3 columns, 11 non-zeros\n",
       "      0: obj =   0.000000000e+00 inf =   1.750e+03 (4)\n",
       "      4: obj =   1.569750000e+02 inf =   0.000e+00 (0)\n",
       "*     6: obj =   1.324750000e+02 inf =   0.000e+00 (0)\n",
       "<span style=\"color:green\">OPTIMAL LP SOLUTION FOUND\n",
       "</span>Integer optimization begins...\n",
       "Long-step dual simplex will be used\n",
       "+     6: mip =     not found yet &gt;=              -inf        (1; 0)\n",
       "Solution found by heuristic: 133.77\n",
       "+     7: &gt;&gt;&gt;&gt;&gt;   1.325800000e+02 &gt;=   1.325800000e+02   0.0% (1; 0)\n",
       "+     7: mip =   1.325800000e+02 &gt;=     tree is empty   0.0% (0; 1)\n",
       "<span style=\"color:green\">INTEGER OPTIMAL SOLUTION FOUND\n",
       "</span>Time used:   0.0 secs\n",
       "Memory used: 0.1 Mb (147532 bytes)\n",
       "<span style=\"color:#c76e00\">Display statement at line 25\n",
       "</span>Buy[BEEF].val = 2\n",
       "Buy[CHK].val = 17\n",
       "Buy[TUR].val = 33\n",
       "Model has been successfully processed\n",
       "Writing MIP solution to &#x27;C:\\Users\\megaz\\AppData\\Local\\Temp\\tmpwonkruyr\\model.sol&#x27;...\n",
       "\n",
       "--------------------------------------------------------------------------------\n",
       "Problem:    model\n",
       "Rows:       5\n",
       "Columns:    3 (3 integer, 0 binary)\n",
       "Non-zeros:  14\n",
       "Status:     <span style=\"color:green\">INTEGER OPTIMAL\n",
       "</span><span style=\"color:#c76e00\">Objective:  Total_Cost = 132.58 (MINimum)\n",
       "</span>\n",
       "   No.   Row name        Activity     Lower bound   Upper bound\n",
       "------ ------------    ------------- ------------- -------------\n",
       "     1 Total_Cost             132.58                             \n",
       "     2 Diet[A]                  2236           700         10000 \n",
       "     3 Diet[B1]                  855           700         10000 \n",
       "     4 Diet[B2]                  700           700         10000 \n",
       "     5 Diet[C]                   700           700         10000 \n",
       "\n",
       "   No. Column name       Activity     Lower bound   Upper bound\n",
       "------ ------------    ------------- ------------- -------------\n",
       "     1 Buy[BEEF]    *              2             0               \n",
       "     2 Buy[CHK]     *             17             0               \n",
       "     3 Buy[TUR]     *             33             0               \n",
       "\n",
       "Integer feasibility conditions:\n",
       "\n",
       "KKT.PE: max.abs.err = 0.00e+00 on row 0\n",
       "        max.rel.err = 0.00e+00 on row 0\n",
       "        High quality\n",
       "\n",
       "KKT.PB: max.abs.err = 0.00e+00 on row 0\n",
       "        max.rel.err = 0.00e+00 on row 0\n",
       "        High quality\n",
       "\n",
       "End of output\n",
       "</pre>"
      ]
     },
     "metadata": {},
     "output_type": "display_data",
     "jetTransient": {
      "display_id": null
     }
    }
   ],
   "execution_count": 20
  },
  {
   "cell_type": "markdown",
   "metadata": {
    "id": "3kwJuT8PIZGG"
   },
   "source": [
    "# Zadanie 1.\n",
    "\n",
    "Rozwiąż za pomocą GLPK następujący problem LP:\n",
    "\n",
    "    maximize z = 50x + 120y\n",
    "    x + 2y ≤ 100\n",
    "    x + 3y ≤ 120\n",
    "    x + y ≤ 110\n",
    "    x, y ≥ 0"
   ]
  },
  {
   "cell_type": "code",
   "source": [
    "%%glpsol\n",
    "\n",
    "# Tutaj państwa rozwiązanie..."
   ],
   "metadata": {
    "id": "wKWeAPEq6N53",
    "ExecuteTime": {
     "end_time": "2025-10-22T21:48:33.702056Z",
     "start_time": "2025-10-22T21:48:33.234759Z"
    }
   },
   "outputs": [
    {
     "data": {
      "text/plain": [
       "<IPython.core.display.HTML object>"
      ],
      "text/html": [
       "<pre style=\"max-width: 800px; white-space: pre-wrap; font-family: monospace;\">GLPSOL--GLPK LP/MIP Solver 5.0\n",
       "Parameter(s) specified in the command line:\n",
       " -m C:\\Users\\megaz\\AppData\\Local\\Temp\\tmpaxo1ngp7\\model.lp -o C:\\Users\\megaz\\AppData\\Local\\Temp\\tmpaxo1ngp7\\model.sol\n",
       "Reading model section from C:\\Users\\megaz\\AppData\\Local\\Temp\\tmpaxo1ngp7\\model.lp...\n",
       "C:\\Users\\megaz\\AppData\\Local\\Temp\\tmpaxo1ngp7\\model.lp:2: empty model section not allowed\n",
       "Context:                                                          _|_\n",
       "<span style=\"color:#FF0000\">MathProg model processing error</span>\n",
       "\n",
       "</pre>"
      ]
     },
     "metadata": {},
     "output_type": "display_data",
     "jetTransient": {
      "display_id": null
     }
    },
    {
     "ename": "RuntimeError",
     "evalue": "GLPSOL--GLPK LP/MIP Solver 5.0\nParameter(s) specified in the command line:\n -m C:\\Users\\megaz\\AppData\\Local\\Temp\\tmpaxo1ngp7\\model.lp -o C:\\Users\\megaz\\AppData\\Local\\Temp\\tmpaxo1ngp7\\model.sol\nReading model section from C:\\Users\\megaz\\AppData\\Local\\Temp\\tmpaxo1ngp7\\model.lp...\nC:\\Users\\megaz\\AppData\\Local\\Temp\\tmpaxo1ngp7\\model.lp:2: empty model section not allowed\nContext:                                                          _|_\nMathProg model processing error\n\n",
     "output_type": "error",
     "traceback": [
      "\u001B[31m---------------------------------------------------------------------------\u001B[39m",
      "\u001B[31mRuntimeError\u001B[39m                              Traceback (most recent call last)",
      "\u001B[36mCell\u001B[39m\u001B[36m \u001B[39m\u001B[32mIn[21]\u001B[39m\u001B[32m, line 1\u001B[39m\n\u001B[32m----> \u001B[39m\u001B[32m1\u001B[39m \u001B[43mget_ipython\u001B[49m\u001B[43m(\u001B[49m\u001B[43m)\u001B[49m\u001B[43m.\u001B[49m\u001B[43mrun_cell_magic\u001B[49m\u001B[43m(\u001B[49m\u001B[33;43m'\u001B[39;49m\u001B[33;43mglpsol\u001B[39;49m\u001B[33;43m'\u001B[39;49m\u001B[43m,\u001B[49m\u001B[43m \u001B[49m\u001B[33;43m'\u001B[39;49m\u001B[33;43m'\u001B[39;49m\u001B[43m,\u001B[49m\u001B[43m \u001B[49m\u001B[33;43m'\u001B[39;49m\u001B[38;5;130;43;01m\\n\u001B[39;49;00m\u001B[33;43m# Tutaj państwa rozwiązanie...\u001B[39;49m\u001B[38;5;130;43;01m\\n\u001B[39;49;00m\u001B[33;43m'\u001B[39;49m\u001B[43m)\u001B[49m\n",
      "\u001B[36mFile \u001B[39m\u001B[32m~\\PycharmProjects\\JupyterProject\\.venv\\Lib\\site-packages\\IPython\\core\\interactiveshell.py:2565\u001B[39m, in \u001B[36mInteractiveShell.run_cell_magic\u001B[39m\u001B[34m(self, magic_name, line, cell)\u001B[39m\n\u001B[32m   2563\u001B[39m \u001B[38;5;28;01mwith\u001B[39;00m \u001B[38;5;28mself\u001B[39m.builtin_trap:\n\u001B[32m   2564\u001B[39m     args = (magic_arg_s, cell)\n\u001B[32m-> \u001B[39m\u001B[32m2565\u001B[39m     result = \u001B[43mfn\u001B[49m\u001B[43m(\u001B[49m\u001B[43m*\u001B[49m\u001B[43margs\u001B[49m\u001B[43m,\u001B[49m\u001B[43m \u001B[49m\u001B[43m*\u001B[49m\u001B[43m*\u001B[49m\u001B[43mkwargs\u001B[49m\u001B[43m)\u001B[49m\n\u001B[32m   2567\u001B[39m \u001B[38;5;66;03m# The code below prevents the output from being displayed\u001B[39;00m\n\u001B[32m   2568\u001B[39m \u001B[38;5;66;03m# when using magics with decorator @output_can_be_silenced\u001B[39;00m\n\u001B[32m   2569\u001B[39m \u001B[38;5;66;03m# when the last Python token in the expression is a ';'.\u001B[39;00m\n\u001B[32m   2570\u001B[39m \u001B[38;5;28;01mif\u001B[39;00m \u001B[38;5;28mgetattr\u001B[39m(fn, magic.MAGIC_OUTPUT_CAN_BE_SILENCED, \u001B[38;5;28;01mFalse\u001B[39;00m):\n",
      "\u001B[36mCell\u001B[39m\u001B[36m \u001B[39m\u001B[32mIn[5]\u001B[39m\u001B[32m, line 100\u001B[39m, in \u001B[36mGlpkMagic.glpsol\u001B[39m\u001B[34m(self, line, cell)\u001B[39m\n\u001B[32m     98\u001B[39m     highlighted = syntax_highlight(processed_output)\n\u001B[32m     99\u001B[39m     display(HTML(highlighted))\n\u001B[32m--> \u001B[39m\u001B[32m100\u001B[39m     \u001B[38;5;28;01mraise\u001B[39;00m \u001B[38;5;167;01mRuntimeError\u001B[39;00m(processed_output) \u001B[38;5;28;01mfrom\u001B[39;00m\u001B[38;5;250m \u001B[39m\u001B[38;5;28;01mNone\u001B[39;00m\n\u001B[32m    101\u001B[39m \u001B[38;5;28;01mexcept\u001B[39;00m \u001B[38;5;167;01mException\u001B[39;00m \u001B[38;5;28;01mas\u001B[39;00m e:\n\u001B[32m    102\u001B[39m     \u001B[38;5;66;03m# Handle unexpected exceptions\u001B[39;00m\n\u001B[32m    103\u001B[39m     logger.error(\u001B[33m\"\u001B[39m\u001B[33mAn unexpected error occurred while running glpsol.\u001B[39m\u001B[33m\"\u001B[39m, exc_info=\u001B[38;5;28;01mTrue\u001B[39;00m)\n",
      "\u001B[31mRuntimeError\u001B[39m: GLPSOL--GLPK LP/MIP Solver 5.0\nParameter(s) specified in the command line:\n -m C:\\Users\\megaz\\AppData\\Local\\Temp\\tmpaxo1ngp7\\model.lp -o C:\\Users\\megaz\\AppData\\Local\\Temp\\tmpaxo1ngp7\\model.sol\nReading model section from C:\\Users\\megaz\\AppData\\Local\\Temp\\tmpaxo1ngp7\\model.lp...\nC:\\Users\\megaz\\AppData\\Local\\Temp\\tmpaxo1ngp7\\model.lp:2: empty model section not allowed\nContext:                                                          _|_\nMathProg model processing error\n\n"
     ]
    }
   ],
   "execution_count": 21
  },
  {
   "cell_type": "markdown",
   "metadata": {
    "id": "SmFB6H54JUg5"
   },
   "source": [
    "# Zadanie 2.\n",
    "\n",
    "\n",
    "Firma produkuje dwa rodzaje pudełek: `A` i `B`;\n",
    "Pudełka wymagają wykonania dwóch głównych operacji:\n",
    "*cięcia i składania*.\n",
    "Cena sprzedaży za pudełko `A` wynosi `6`, a za pudełko `B` wynosi `4`.\n",
    "\n",
    "Pudełko rodzaju `A` wymaga `2 minut cięcia` i `3 minut składania`, podczas gdy każde pudełko `B` wymaga `3 minut cięcia` i `1 minuty składania`.\n",
    "\n",
    "Dostępny czas pracy wynosi `120 minut dla maszyny do cięcia` i `60 minut dla maszyny do składania` pudełek.\n",
    "Kierownik musi określić optymalne ilości obu rodzajów pudełek do wyprodukowania w celu maksymalizacji zysków."
   ]
  },
  {
   "cell_type": "code",
   "source": [],
   "metadata": {
    "id": "Xbh_vEiGG8sr",
    "ExecuteTime": {
     "end_time": "2025-10-22T21:48:33.709015900Z",
     "start_time": "2025-10-21T13:06:43.993960Z"
    }
   },
   "outputs": [],
   "execution_count": null
  },
  {
   "cell_type": "markdown",
   "metadata": {
    "id": "LxVzOFwhMXwd"
   },
   "source": [
    "# Zadanie 3.\n",
    "\n",
    "Firma z *poprzedniego* zadania rozpoczęła produkcję trzeciego rodzaju pudełka,\n",
    "tj. `C`, którego czasy cięcia i składania wynoszą odpowiednio:\n",
    "\n",
    "Opracuj **uniwersalny** model pozwalający na łatwe dodawanie kolejnych rodzajów pudełek oraz odczyt z *osobnego pliku z danymi*.\n",
    "\n",
    "Jakie jest optymalne rozwiązanie dla następujących danych:\n",
    "\n",
    "    set Box := A B C;\n",
    "    \n",
    "    param :\n",
    "       Cutting   Assembly Price :=\n",
    "    A        2          3     6\n",
    "    B        3          1     4\n",
    "    C      1.5        2.0     4 ;\n",
    "    \n",
    "    param MaxCuttingTime := 120 ;\n",
    "    param MaxAssemblyTime := 60\n",
    "\n",
    "  \n",
    "**Wskazówka**: zdefiniuj parametry `Cutting`, `Assembly`, `Price` indeksowane elementami zbioru `Box`, np. `param Assembly { Box } > 0;`"
   ]
  },
  {
   "cell_type": "markdown",
   "metadata": {
    "id": "zs4b5A1ORfJl"
   },
   "source": [
    "# Zadanie 4.\n",
    "\n",
    "Kayla pracuje nie więcej niż 20 godzin tygodniowo. Otrzymuje 10 € za korepetycje i 7 € za opiekę nad dziećmi.\n",
    "Chce poświęcić co najmniej 3 godziny, ale nie więcej niż 8 godzin tygodniowo na korepetycje. Znajdź **najlepszy** oraz **najgorszy** możliwy podział czasu pracy Kayli."
   ]
  },
  {
   "cell_type": "markdown",
   "metadata": {
    "id": "V6ZuESNFCYmY"
   },
   "source": [
    "# Zadanie 5.\n",
    "\n",
    "Powierzchnia fabryki stali wynosi $F~{\\rm m}^2$.\n",
    "Do fabryki należy zakupić maszyny i ustawić je obok siebie. Maszyna typu $M$ zajmuje $Z_M~{\\rm m}^2$ powierzchni podłogi\n",
    "oraz produkuje $W_M~{\\rm m}$ arkuszy stali na minutę.\n",
    "\n",
    "W fabryce powinno powstawać co najmniej $L$ metrów arkuszy stali na minutę.\n",
    "\n",
    "**Ile maszyn poszczególnych typów należy zakupić, tak aby zminimalizować koszt ich zakupu, ale zapewnić minimalną wydajność produkcji?**\n",
    "\n",
    "Koszt zakupu maszyny typu $M$ wynosi ${\\it Cost}_M~\\$$.\n",
    "\n",
    "\n",
    "Ile wynosi odpowiedź dla następujących danych:\n",
    "\n",
    "    F = 350\n",
    "    L = 600\n",
    "    M = {A, B}  /* Maszyny */\n",
    "    Z[A] = 60\n",
    "    Z[B] = 110\n",
    "    W[A] = 100\n",
    "    W[B] = 200\n",
    "    Cost[A] = 22000\n",
    "    Cost[B] = 48000"
   ]
  }
 ],
 "metadata": {
  "colab": {
   "collapsed_sections": [
    "pG_NxtPhowx0",
    "Z3sIM850oMZ6",
    "taGMFA3fpJwG",
    "Iku3H8Y9unP1",
    "1aFVBlyGMf9k",
    "-3qbYzYZczIr",
    "9PL0tbN1c3kx",
    "DYZ14oVF93iY",
    "3kwJuT8PIZGG",
    "SmFB6H54JUg5"
   ],
   "provenance": []
  },
  "kernelspec": {
   "display_name": "Python 3 (ipykernel)",
   "name": "python3",
   "language": "python"
  },
  "language_info": {
   "name": "python"
  }
 },
 "nbformat": 4,
 "nbformat_minor": 0
}
